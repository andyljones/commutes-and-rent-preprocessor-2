{
 "cells": [
  {
   "cell_type": "code",
   "execution_count": 5,
   "metadata": {
    "collapsed": false
   },
   "outputs": [
    {
     "data": {
      "text/plain": [
       "Getting information for line bakerloo\t\n",
       "Ignoring Harrow & Wealdstone Underground Station in direction inbound\t\n",
       "Failed to get intervals for Harrow & Wealdstone Underground Station in direction outbound\t\n",
       "Ignoring Kenton Underground Station in direction inbound\t\n",
       "Ignoring Kenton Underground Station in direction outbound\t\n",
       "Ignoring Maida Vale Underground Station in direction inbound\t\n",
       "Ignoring Maida Vale Underground Station in direction outbound\t\n",
       "Ignoring Regent's Park Underground Station in direction inbound\t\n",
       "Ignoring Regent's Park Underground Station in direction outbound\t\n",
       "Ignoring Paddington Underground Station in direction inbound\t\n",
       "Ignoring Paddington Underground Station in direction outbound\t\n",
       "Ignoring Harlesden Underground Station in direction inbound\t\n",
       "Ignoring Harlesden Underground Station in direction outbound\t\n",
       "Ignoring Lambeth North Underground Station in direction inbound\t\n",
       "Ignoring Lambeth North Underground Station in direction outbound\t\n",
       "Ignoring North Wembley Underground Station in direction inbound\t\n",
       "Ignoring North Wembley Underground Station in direction outbound\t\n",
       "Ignoring Kensal Green Underground Station in direction inbound\t\n",
       "Ignoring Kensal Green Underground Station in direction outbound\t\n",
       "Ignoring Oxford Circus Underground Station in direction inbound\t\n",
       "Ignoring Oxford Circus Underground Station in direction outbound\t\n",
       "Ignoring Edgware Road (Bakerloo) Underground Station in direction inbound\t\n",
       "Ignoring Edgware Road (Bakerloo) Underground Station in direction outbound\t\n",
       "Ignoring Piccadilly Circus Underground Station in direction inbound\t\n",
       "Ignoring Piccadilly Circus Underground Station in direction outbound\t\n",
       "Ignoring Embankment Underground Station in direction inbound\t\n",
       "Ignoring Embankment Underground Station in direction outbound\t\n",
       "Failed to get intervals for Elephant & Castle Underground Station in direction inbound\t\n",
       "Ignoring Elephant & Castle Underground Station in direction outbound\t\n",
       "Ignoring South Kenton Underground Station in direction inbound\t\n",
       "Ignoring South Kenton Underground Station in direction outbound\t\n",
       "Ignoring Charing Cross Underground Station in direction inbound\t\n",
       "Ignoring Charing Cross Underground Station in direction outbound\t\n",
       "Ignoring Wembley Central Underground Station in direction inbound\t\n",
       "Ignoring Wembley Central Underground Station in direction outbound\t\n",
       "Ignoring Marylebone Underground Station in direction inbound\t\n",
       "Ignoring Marylebone Underground Station in direction outbound\t\n",
       "Ignoring Warwick Avenue Underground Station in direction inbound\t\n",
       "Ignoring Warwick Avenue Underground Station in direction outbound\t\n",
       "Ignoring Baker Street Underground Station in direction inbound\t\n",
       "Ignoring Baker Street Underground Station in direction outbound\t\n",
       "Ignoring Waterloo Underground Station in direction inbound\t\n",
       "Ignoring Waterloo Underground Station in direction outbound\t\n",
       "Ignoring Willesden Junction Underground Station in direction inbound\t\n",
       "Ignoring Willesden Junction Underground Station in direction outbound\t\n",
       "Ignoring Stonebridge Park Underground Station in direction inbound\t\n",
       "Ignoring Stonebridge Park Underground Station in direction outbound\t\n",
       "Ignoring Queen's Park Underground Station in direction inbound\t\n",
       "Ignoring Queen's Park Underground Station in direction outbound\t\n",
       "Ignoring Kilburn Park Underground Station in direction inbound\t\n",
       "Ignoring Kilburn Park Underground Station in direction outbound\t\n",
       "Getting information for line central\t\n",
       "Ignoring Shepherd's Bush (Central) Underground Station in direction inbound\t\n",
       "Ignoring Shepherd's Bush (Central) Underground Station in direction outbound\t\n"
      ]
     },
     "execution_count": 5,
     "metadata": {},
     "output_type": "execute_result"
    },
    {
     "data": {
      "text/plain": [
       "Failed to get intervals for West Ruislip Underground Station in direction inbound\t\n",
       "Ignoring West Ruislip Underground Station in direction outbound\t\n",
       "Ignoring East Acton Underground Station in direction inbound\t\n",
       "Ignoring East Acton Underground Station in direction outbound\t\n",
       "Ignoring Holborn Underground Station in direction inbound\t\n",
       "Ignoring Holborn Underground Station in direction outbound\t\n",
       "Ignoring Theydon Bois Underground Station in direction inbound\t\n",
       "Ignoring Theydon Bois Underground Station in direction outbound\t\n",
       "Ignoring Chancery Lane Underground Station in direction inbound\t\n",
       "Ignoring Chancery Lane Underground Station in direction outbound\t\n",
       "Ignoring Woodford Underground Station in direction inbound\t\n",
       "Ignoring Woodford Underground Station in direction outbound\t\n",
       "Ignoring Bethnal Green Underground Station in direction inbound\t\n",
       "Ignoring Bethnal Green Underground Station in direction outbound\t\n",
       "Ignoring Tottenham Court Road Underground Station in direction inbound\t\n",
       "Ignoring Tottenham Court Road Underground Station in direction outbound\t\n",
       "Ignoring Fairlop Underground Station in direction inbound\t\n",
       "Ignoring Fairlop Underground Station in direction outbound\t\n",
       "Ignoring Mile End Underground Station in direction inbound\t\n",
       "Ignoring Mile End Underground Station in direction outbound\t\n",
       "Ignoring Buckhurst Hill Underground Station in direction inbound\t\n",
       "Ignoring Buckhurst Hill Underground Station in direction outbound\t\n",
       "Ignoring White City Underground Station in direction inbound\t\n",
       "Ignoring White City Underground Station in direction outbound\t\n",
       "Ignoring Bond Street Underground Station in direction inbound\t\n",
       "Ignoring Bond Street Underground Station in direction outbound\t\n",
       "Ignoring Leytonstone Underground Station in direction inbound\t\n",
       "Ignoring Leytonstone Underground Station in direction outbound\t\n",
       "Ignoring Northolt Underground Station in direction inbound\t\n",
       "Ignoring Northolt Underground Station in direction outbound\t\n",
       "Ignoring Chigwell Underground Station in direction inbound\t\n",
       "Ignoring Chigwell Underground Station in direction outbound\t\n",
       "Ignoring North Acton Underground Station in direction inbound\t\n",
       "Ignoring North Acton Underground Station in direction outbound\t\n",
       "Ignoring South Ruislip Underground Station in direction inbound\t\n",
       "Ignoring South Ruislip Underground Station in direction outbound\t\n",
       "Ignoring Stratford Underground Station in direction inbound\t\n",
       "Ignoring Stratford Underground Station in direction outbound\t\n",
       "Ignoring West Acton Underground Station in direction inbound\t\n",
       "Ignoring West Acton Underground Station in direction outbound\t\n",
       "Ignoring Greenford Underground Station in direction inbound\t\n",
       "Ignoring Greenford Underground Station in direction outbound\t\n",
       "Ignoring Wanstead Underground Station in direction inbound\t\n",
       "Ignoring Wanstead Underground Station in direction outbound\t\n",
       "Ignoring Bank Underground Station in direction inbound\t\n",
       "Ignoring Bank Underground Station in direction outbound\t\n",
       "Ignoring Grange Hill Underground Station in direction inbound\t\n",
       "Ignoring Grange Hill Underground Station in direction outbound\t\n",
       "Ignoring South Woodford Underground Station in direction inbound\t\n",
       "Ignoring South Woodford Underground Station in direction outbound\t\n",
       "Ignoring Perivale Underground Station in direction inbound\t\n",
       "Ignoring Perivale Underground Station in direction outbound\t\n",
       "Ignoring Snaresbrook Underground Station in direction inbound\t\n",
       "Ignoring Snaresbrook Underground Station in direction outbound\t\n",
       "Ignoring Roding Valley Underground Station in direction inbound\t\n",
       "Ignoring Roding Valley Underground Station in direction outbound\t\n",
       "Ignoring St. Paul's Underground Station in direction inbound\t\n",
       "Ignoring St. Paul's Underground Station in direction outbound\t\n",
       "Ignoring Oxford Circus Underground Station in direction inbound\t\n",
       "Ignoring Oxford Circus Underground Station in direction outbound\t\n",
       "Ignoring Hainault Underground Station in direction inbound\t\n"
      ]
     },
     "execution_count": 5,
     "metadata": {},
     "output_type": "execute_result"
    },
    {
     "data": {
      "text/plain": [
       "Failed to get intervals for Hainault Underground Station in direction outbound\t\n",
       "Ignoring Ruislip Gardens Underground Station in direction inbound\t\n",
       "Ignoring Ruislip Gardens Underground Station in direction outbound\t\n",
       "Ignoring Queensway Underground Station in direction inbound\t\n",
       "Ignoring Queensway Underground Station in direction outbound\t\n",
       "Ignoring Redbridge Underground Station in direction inbound\t\n",
       "Ignoring Redbridge Underground Station in direction outbound\t\n",
       "Ignoring Debden Underground Station in direction inbound\t\n",
       "Ignoring Debden Underground Station in direction outbound\t\n",
       "Ignoring Holland Park Underground Station in direction inbound\t\n",
       "Ignoring Holland Park Underground Station in direction outbound\t\n",
       "Ignoring Epping Underground Station in direction inbound\t\n"
      ]
     },
     "execution_count": 5,
     "metadata": {},
     "output_type": "execute_result"
    },
    {
     "data": {
      "text/plain": [
       "Failed to get intervals for Epping Underground Station in direction outbound\t\n",
       "Ignoring Newbury Park Underground Station in direction inbound\t\n",
       "Ignoring Newbury Park Underground Station in direction outbound\t\n",
       "Ignoring Hanger Lane Underground Station in direction inbound\t\n",
       "Ignoring Hanger Lane Underground Station in direction outbound\t\n",
       "Ignoring Gants Hill Underground Station in direction inbound\t\n",
       "Ignoring Gants Hill Underground Station in direction outbound\t\n",
       "Ignoring Liverpool Street Underground Station in direction inbound\t\n",
       "Ignoring Liverpool Street Underground Station in direction outbound\t\n",
       "Ignoring Loughton Underground Station in direction inbound\t\n",
       "Ignoring Loughton Underground Station in direction outbound\t\n",
       "Ignoring Marble Arch Underground Station in direction inbound\t\n",
       "Ignoring Marble Arch Underground Station in direction outbound\t\n",
       "Failed to get intervals for Ealing Broadway Underground Station in direction inbound\t\n",
       "Ignoring Ealing Broadway Underground Station in direction outbound\t\n",
       "Ignoring Leyton Underground Station in direction inbound\t\n",
       "Ignoring Leyton Underground Station in direction outbound\t\n",
       "Ignoring Lancaster Gate Underground Station in direction inbound\t\n",
       "Ignoring Lancaster Gate Underground Station in direction outbound\t\n",
       "Ignoring Barkingside Underground Station in direction inbound\t\n",
       "Ignoring Barkingside Underground Station in direction outbound\t\n",
       "Ignoring Notting Hill Gate Underground Station in direction inbound\t\n",
       "Ignoring Notting Hill Gate Underground Station in direction outbound\t\n",
       "Getting information for line circle\t\n",
       "Ignoring Latimer Road Underground Station in direction inbound\t\n",
       "Ignoring Latimer Road Underground Station in direction outbound\t\n",
       "Ignoring King's Cross St. Pancras Underground Station in direction inbound\t\n",
       "Ignoring King's Cross St. Pancras Underground Station in direction outbound\t\n",
       "Failed to get intervals for Mansion House Underground Station in direction inbound\t\n",
       "Failed to get intervals for Mansion House Underground Station in direction outbound\t\n",
       "Failed to get intervals for Hammersmith (H&C Line) Underground Station in direction inbound\t\n",
       "Ignoring Hammersmith (H&C Line) Underground Station in direction outbound\t\n",
       "Ignoring Euston Square Underground Station in direction inbound\t\n",
       "Ignoring Euston Square Underground Station in direction outbound\t\n",
       "Ignoring Royal Oak Underground Station in direction inbound\t\n",
       "Ignoring Royal Oak Underground Station in direction outbound\t\n",
       "Ignoring Edgware Road (Circle Line) Underground Station in direction inbound\t\n",
       "Ignoring Edgware Road (Circle Line) Underground Station in direction outbound\t\n"
      ]
     },
     "execution_count": 5,
     "metadata": {},
     "output_type": "execute_result"
    },
    {
     "data": {
      "text/plain": [
       "Failed to get intervals for Westminster Underground Station in direction inbound\t\n",
       "Failed to get intervals for Westminster Underground Station in direction outbound\t\n",
       "Failed to get intervals for South Kensington Underground Station in direction inbound\t\n"
      ]
     },
     "execution_count": 5,
     "metadata": {},
     "output_type": "execute_result"
    },
    {
     "data": {
      "text/plain": [
       "Failed to get intervals for South Kensington Underground Station in direction outbound\t\n",
       "Failed to get intervals for Sloane Square Underground Station in direction inbound\t\n",
       "Failed to get intervals for Sloane Square Underground Station in direction outbound\t\n",
       "Failed to get intervals for Blackfriars Underground Station in direction inbound\t\n",
       "Failed to get intervals for Blackfriars Underground Station in direction outbound\t\n",
       "Failed to get intervals for Temple Underground Station in direction inbound\t\n",
       "Failed to get intervals for Temple Underground Station in direction outbound\t\n",
       "Ignoring Ladbroke Grove Underground Station in direction inbound\t\n",
       "Ignoring Ladbroke Grove Underground Station in direction outbound\t\n"
      ]
     },
     "execution_count": 5,
     "metadata": {},
     "output_type": "execute_result"
    },
    {
     "data": {
      "text/plain": [
       "Failed to get intervals for Tower Hill Underground Station in direction inbound\t\n",
       "Failed to get intervals for Tower Hill Underground Station in direction outbound\t\n",
       "Failed to get intervals for Cannon Street Underground Station in direction inbound\t\n"
      ]
     },
     "execution_count": 5,
     "metadata": {},
     "output_type": "execute_result"
    },
    {
     "data": {
      "text/plain": [
       "Failed to get intervals for Cannon Street Underground Station in direction outbound\t\n",
       "Ignoring Paddington Underground Station in direction inbound\t\n",
       "Ignoring Paddington Underground Station in direction outbound\t\n"
      ]
     },
     "execution_count": 5,
     "metadata": {},
     "output_type": "execute_result"
    },
    {
     "data": {
      "text/plain": [
       "Failed to get intervals for St. James's Park Underground Station in direction inbound\t\n",
       "Failed to get intervals for St. James's Park Underground Station in direction outbound\t\n",
       "Ignoring Westbourne Park Underground Station in direction inbound\t\n",
       "Ignoring Westbourne Park Underground Station in direction outbound\t\n",
       "Ignoring Farringdon Underground Station in direction inbound\t\n",
       "Ignoring Farringdon Underground Station in direction outbound\t\n",
       "Ignoring Great Portland Street Underground Station in direction inbound\t\n",
       "Ignoring Great Portland Street Underground Station in direction outbound\t\n",
       "Failed to get intervals for Victoria Underground Station in direction inbound\t\n",
       "Failed to get intervals for Victoria Underground Station in direction outbound\t\n",
       "Ignoring Shepherd's Bush Market Underground Station in direction inbound\t\n",
       "Ignoring Shepherd's Bush Market Underground Station in direction outbound\t\n",
       "Failed to get intervals for Gloucester Road Underground Station in direction inbound\t\n",
       "Failed to get intervals for Gloucester Road Underground Station in direction outbound\t\n"
      ]
     },
     "execution_count": 5,
     "metadata": {},
     "output_type": "execute_result"
    },
    {
     "data": {
      "text/plain": [
       "Failed to get intervals for Embankment Underground Station in direction inbound\t\n",
       "Failed to get intervals for Embankment Underground Station in direction outbound\t\n",
       "Ignoring Moorgate Underground Station in direction inbound\t\n",
       "Ignoring Moorgate Underground Station in direction outbound\t\n",
       "Ignoring Bayswater Underground Station in direction inbound\t\n",
       "Ignoring Bayswater Underground Station in direction outbound\t\n",
       "Failed to get intervals for Monument Underground Station in direction inbound\t\n",
       "Failed to get intervals for Monument Underground Station in direction outbound\t\n",
       "Ignoring Wood Lane Underground Station in direction inbound\t\n",
       "Ignoring Wood Lane Underground Station in direction outbound\t\n",
       "Ignoring Liverpool Street Underground Station in direction inbound\t\n",
       "Ignoring Liverpool Street Underground Station in direction outbound\t\n",
       "Ignoring Baker Street Underground Station in direction inbound\t\n",
       "Ignoring Baker Street Underground Station in direction outbound\t\n",
       "Ignoring Barbican Underground Station in direction inbound\t\n",
       "Ignoring Barbican Underground Station in direction outbound\t\n",
       "Ignoring Paddington (H&C Line)-Underground in direction inbound\t\n",
       "Ignoring Paddington (H&C Line)-Underground in direction outbound\t\n",
       "Ignoring Aldgate Underground Station in direction inbound\t\n",
       "Failed to get intervals for Aldgate Underground Station in direction outbound\t\n",
       "Ignoring High Street Kensington Underground Station in direction inbound\t\n",
       "Ignoring High Street Kensington Underground Station in direction outbound\t\n",
       "Ignoring Goldhawk Road Underground Station in direction inbound\t\n",
       "Ignoring Goldhawk Road Underground Station in direction outbound\t\n",
       "Ignoring Notting Hill Gate Underground Station in direction inbound\t\n",
       "Ignoring Notting Hill Gate Underground Station in direction outbound\t\n",
       "Getting information for line district\t\n",
       "Ignoring East Putney Underground Station in direction inbound\t\n",
       "Ignoring East Putney Underground Station in direction outbound\t\n",
       "Ignoring Upminster Underground Station in direction inbound\t\n",
       "Failed to get intervals for Upminster Underground Station in direction outbound\t\n",
       "Ignoring Chiswick Park Underground Station in direction inbound\t\n",
       "Ignoring Chiswick Park Underground Station in direction outbound\t\n",
       "Ignoring Mansion House Underground Station in direction inbound\t\n",
       "Ignoring Mansion House Underground Station in direction outbound\t\n",
       "Ignoring Hammersmith (Dist&Picc Line) Underground Station in direction inbound\t\n",
       "Ignoring Hammersmith (Dist&Picc Line) Underground Station in direction outbound\t\n",
       "Ignoring Earl's Court Underground Station in direction inbound\t\n",
       "Ignoring Earl's Court Underground Station in direction outbound\t\n",
       "Ignoring Westminster Underground Station in direction inbound\t\n",
       "Ignoring Westminster Underground Station in direction outbound\t\n",
       "Ignoring Whitechapel Underground Station in direction inbound\t\n",
       "Ignoring Whitechapel Underground Station in direction outbound\t\n",
       "Ignoring Upton Park Underground Station in direction inbound\t\n",
       "Ignoring Upton Park Underground Station in direction outbound\t\n",
       "Ignoring Dagenham Heathway Underground Station in direction inbound\t\n",
       "Ignoring Dagenham Heathway Underground Station in direction outbound\t\n",
       "Ignoring West Kensington Underground Station in direction inbound\t\n",
       "Ignoring West Kensington Underground Station in direction outbound\t\n",
       "Ignoring Ealing Common Underground Station in direction inbound\t\n",
       "Ignoring Ealing Common Underground Station in direction outbound\t\n",
       "Ignoring Dagenham East Underground Station in direction inbound\t\n",
       "Ignoring Dagenham East Underground Station in direction outbound\t\n",
       "Ignoring High Street Kensington Underground Station in direction inbound\t\n",
       "Ignoring High Street Kensington Underground Station in direction outbound\t\n",
       "Ignoring Barons Court Underground Station in direction inbound\t\n",
       "Ignoring Barons Court Underground Station in direction outbound\t\n",
       "Ignoring Mile End Underground Station in direction inbound\t\n",
       "Ignoring Mile End Underground Station in direction outbound\t\n",
       "Failed to get intervals for Richmond Underground Station in direction inbound\t\n",
       "Ignoring Richmond Underground Station in direction outbound\t\n",
       "Ignoring Southfiel"
      ]
     },
     "execution_count": 5,
     "metadata": {},
     "output_type": "execute_result"
    },
    {
     "data": {
      "text/plain": [
       "ds Underground Station in direction inbound\t\n",
       "Ignoring Southfields Underground Station in direction outbound\t\n",
       "Ignoring West Ham Underground Station in direction inbound\t\n",
       "Ignoring West Ham Underground Station in direction outbound\t\n",
       "Ignoring Wimbledon Park Underground Station in direction inbound\t\n",
       "Ignoring Wimbledon Park Underground Station in direction outbound\t\n",
       "Ignoring Blackfriars Underground Station in direction inbound\t\n",
       "Ignoring Blackfriars Underground Station in direction outbound\t\n",
       "Ignoring Hornchurch Underground Station in direction inbound\t\n",
       "Ignoring Hornchurch Underground Station in direction outbound\t\n",
       "Ignoring Parsons Green Underground Station in direction inbound\t\n",
       "Ignoring Parsons Green Underground Station in direction outbound\t\n",
       "Ignoring Turnham Green Underground Station in direction inbound\t\n",
       "Ignoring Turnham Green Underground Station in direction outbound\t\n",
       "Ignoring Aldgate East Underground Station in direction inbound\t\n",
       "Ignoring Aldgate East Underground Station in direction outbound\t\n",
       "Ignoring Becontree Underground Station in direction inbound\t\n",
       "Ignoring Becontree Underground Station in direction outbound\t\n",
       "Ignoring West Brompton Underground Station in direction inbound\t\n",
       "Ignoring West Brompton Underground Station in direction outbound\t\n",
       "Ignoring Victoria Underground Station in direction inbound\t\n",
       "Ignoring Victoria Underground Station in direction outbound\t\n",
       "Ignoring St. James's Park Underground Station in direction inbound\t\n",
       "Ignoring St. James's Park Underground Station in direction outbound\t\n",
       "Ignoring Cannon Street Underground Station in direction inbound\t\n",
       "Ignoring Cannon Street Underground Station in direction outbound\t\n",
       "Ignoring Embankment Underground Station in direction inbound\t\n",
       "Ignoring Embankment Underground Station in direction outbound\t\n",
       "Ignoring Tower Hill Underground Station in direction inbound\t\n",
       "Ignoring Tower Hill Underground Station in direction outbound\t\n",
       "Ignoring Temple Underground Station in direction inbound\t\n",
       "Ignoring Temple Underground Station in direction outbound\t\n",
       "Ignoring Sloane Square Underground Station in direction inbound\t\n",
       "Ignoring Sloane Square Underground Station in direction outbound\t\n",
       "Ignoring South Kensington Underground Station in direction inbound\t\n",
       "Ignoring South Kensington Underground Station in direction outbound\t\n",
       "Ignoring Paddington Underground Station in direction inbound\t\n",
       "Ignoring Paddington Underground Station in direction outbound\t\n",
       "Ignoring Bayswater Underground Station in direction inbound\t\n",
       "Ignoring Bayswater Underground Station in direction outbound\t\n",
       "Ignoring Upney Underground Station in direction inbound\t\n",
       "Ignoring Upney Underground Station in direction outbound\t\n",
       "Ignoring Bromley-by-Bow Underground Station in direction inbound\t\n",
       "Ignoring Bromley-by-Bow Underground Station in direction outbound\t\n",
       "Ignoring Gunnersbury Underground Station in direction inbound\t\n",
       "Ignoring Gunnersbury Underground Station in direction outbound\t\n",
       "Ignoring Stepney Green Underground Station in direction inbound\t\n",
       "Ignoring Stepney Green Underground Station in direction outbound\t\n",
       "Ignoring Putney Bridge Underground Station in direction inbound\t\n",
       "Ignoring Putney Bridge Underground Station in direction outbound\t\n",
       "Ignoring Ravenscourt Park Underground Station in direction inbound\t\n",
       "Ignoring Ravenscourt Park Underground Station in direction outbound\t\n",
       "Ignoring Stamford Brook Underground Station in direction inbound\t\n",
       "Ignoring Stamford Brook Underground Station in direction outbound\t\n",
       "Ignoring Elm Park Underground Station in direction inbound\t\n",
       "Ignoring Elm Park Underground Station in direction outbound\t\n",
       "Ignoring Bow Road Underground Station in direction inbound\t\n",
       "Ignoring Bow Road Underground Station in direction outbound\t\n",
       "Ignoring Plaistow Underground Station in direction inbound\t\n",
       "Ignoring Plaistow Underground Station in direction outbound\t\n",
       "Failed to get intervals for Kensington (Olympia) Underground Station in direction inbound\t\n",
       "Ignoring Kensington (Olympia) Underground Station in direction outbound\t\n",
       "Failed to get intervals for Wimbledon Underground Station in direction inbound\t\n",
       "Ignoring Wimbledon Underground Station in directio"
      ]
     },
     "execution_count": 5,
     "metadata": {},
     "output_type": "execute_result"
    },
    {
     "data": {
      "text/plain": [
       "n outbound\t\n",
       "Ignoring Gloucester Road Underground Station in direction inbound\t\n",
       "Ignoring Gloucester Road Underground Station in direction outbound\t\n",
       "Ignoring Monument Underground Station in direction inbound\t\n",
       "Ignoring Monument Underground Station in direction outbound\t\n",
       "Ignoring Kew Gardens Underground Station in direction inbound\t\n",
       "Ignoring Kew Gardens Underground Station in direction outbound\t\n",
       "Ignoring Upminster Bridge Underground Station in direction inbound\t\n",
       "Ignoring Upminster Bridge Underground Station in direction outbound\t\n",
       "Ignoring Acton Town Underground Station in direction inbound\t\n",
       "Ignoring Acton Town Underground Station in direction outbound\t\n",
       "Ignoring East Ham Underground Station in direction inbound\t\n",
       "Ignoring East Ham Underground Station in direction outbound\t\n"
      ]
     },
     "execution_count": 5,
     "metadata": {},
     "output_type": "execute_result"
    },
    {
     "data": {
      "text/plain": [
       "Failed to get intervals for Ealing Broadway Underground Station in direction inbound\t\n",
       "Ignoring Ealing Broadway Underground Station in direction outbound\t\n",
       "Ignoring Fulham Broadway Underground Station in direction inbound\t\n",
       "Ignoring Fulham Broadway Underground Station in direction outbound\t\n",
       "Ignoring Edgware Road (Circle Line) Underground Station in direction inbound\t\n"
      ]
     },
     "execution_count": 5,
     "metadata": {},
     "output_type": "execute_result"
    },
    {
     "data": {
      "text/plain": [
       "Failed to get intervals for Edgware Road (Circle Line) Underground Station in direction outbound\t\n",
       "Ignoring Barking Underground Station in direction inbound\t\n",
       "Ignoring Barking Underground Station in direction outbound\t\n",
       "Ignoring Notting Hill Gate Underground Station in direction inbound\t\n",
       "Ignoring Notting Hill Gate Underground Station in direction outbound\t\n"
      ]
     },
     "execution_count": 5,
     "metadata": {},
     "output_type": "execute_result"
    },
    {
     "data": {
      "text/plain": [
       "Getting information for line hammersmith-city\t\n"
      ]
     },
     "execution_count": 5,
     "metadata": {},
     "output_type": "execute_result"
    },
    {
     "data": {
      "text/plain": [
       "Ignoring Latimer Road Underground Station in direction inbound\t\n",
       "Ignoring Latimer Road Underground Station in direction outbound\t\n",
       "Ignoring King's Cross St. Pancras Underground Station in direction inbound\t\n",
       "Ignoring King's Cross St. Pancras Underground Station in direction outbound\t\n",
       "Ignoring Shepherd's Bush Market Underground Station in direction inbound\t\n",
       "Ignoring Shepherd's Bush Market Underground Station in direction outbound\t\n",
       "Ignoring Westbourne Park Underground Station in direction inbound\t\n",
       "Ignoring Westbourne Park Underground Station in direction outbound\t\n",
       "Ignoring East Ham Underground Station in direction inbound\t\n",
       "Ignoring East Ham Underground Station in direction outbound\t\n",
       "Failed to get intervals for Hammersmith (H&C Line) Underground Station in direction inbound\t\n",
       "Ignoring Hammersmith (H&C Line) Underground Station in direction outbound\t\n",
       "Ignoring Euston Square Underground Station in direction inbound\t\n",
       "Ignoring Euston Square Underground Station in direction outbound\t\n",
       "Ignoring Bromley-by-Bow Underground Station in direction inbound\t\n",
       "Ignoring Bromley-by-Bow Underground Station in direction outbound\t\n",
       "Ignoring Farringdon Underground Station in direction inbound\t\n",
       "Ignoring Farringdon Underground Station in direction outbound\t\n",
       "Ignoring Upton Park Underground Station in direction inbound\t\n",
       "Ignoring Upton Park Underground Station in direction outbound\t\n",
       "Ignoring Mile End Underground Station in direction inbound\t\n",
       "Ignoring Mile End Underground Station in direction outbound\t\n",
       "Ignoring Goldhawk Road Underground Station in direction inbound\t\n",
       "Ignoring Goldhawk Road Underground Station in direction outbound\t\n",
       "Ignoring Edgware Road (Circle Line) Underground Station in direction inbound\t\n",
       "Ignoring Edgware Road (Circle Line) Underground Station in direction outbound\t\n",
       "Ignoring Paddington (H&C Line)-Underground in direction inbound\t\n",
       "Ignoring Paddington (H&C Line)-Underground in direction outbound\t\n",
       "Ignoring Royal Oak Underground Station in direction inbound\t\n",
       "Ignoring Royal Oak Underground Station in direction outbound\t\n",
       "Ignoring Plaistow Underground Station in direction inbound\t\n",
       "Ignoring Plaistow Underground Station in direction outbound\t\n",
       "Ignoring Bow Road Underground Station in direction inbound\t\n",
       "Ignoring Bow Road Underground Station in direction outbound\t\n",
       "Ignoring Moorgate Underground Station in direction inbound\t\n",
       "Ignoring Moorgate Underground Station in direction outbound\t\n",
       "Ignoring Stepney Green Underground Station in direction inbound\t\n",
       "Ignoring Stepney Green Underground Station in direction outbound\t\n",
       "Ignoring West Ham Underground Station in direction inbound\t\n",
       "Ignoring West Ham Underground Station in direction outbound\t\n",
       "Ignoring Wood Lane Underground Station in direction inbound\t\n",
       "Ignoring Wood Lane Underground Station in direction outbound\t\n",
       "Ignoring Liverpool Street Underground Station in direction inbound\t\n",
       "Ignoring Liverpool Street Underground Station in direction outbound\t\n",
       "Ignoring Baker Street Underground Station in direction inbound\t\n",
       "Ignoring Baker Street Underground Station in direction outbound\t\n",
       "Ignoring Barbican Underground Station in direction inbound\t\n",
       "Ignoring Barbican Underground Station in direction outbound\t\n",
       "Ignoring Ladbroke Grove Underground Station in direction inbound\t\n",
       "Ignoring Ladbroke Grove Underground Station in direction outbound\t\n",
       "Ignoring Great Portland Street Underground Station in direction inbound\t\n",
       "Ignoring Great Portland Street Underground Station in direction outbound\t\n",
       "Ignoring Aldgate East Underground Station in direction inbound\t\n",
       "Ignoring Aldgate East Underground Station in direction outbound\t\n",
       "Ignoring Barking Underground Station in direction inbound\t\n",
       "Ignoring Barking Underground Station in direction outbound\t\n",
       "Ignoring Whitechapel Underground Station in direction inbound\t\n",
       "Ignoring Whitechapel Underground Station in direction outbound\t\n",
       "Getting information for line jubilee\t\n",
       "Ignoring Canning Town Underground Station in direction inbound\t\n",
       "Ignoring Canning Town Underground Station in direction outbound\t\n",
       "Ignoring Dollis Hill Underground Station in direction inbound\t\n",
       "Ignoring Dollis Hill Underground Station in direction "
      ]
     },
     "execution_count": 5,
     "metadata": {},
     "output_type": "execute_result"
    },
    {
     "data": {
      "text/plain": [
       "outbound\t\n",
       "Ignoring Finchley Road Underground Station in direction inbound\t\n",
       "Ignoring Finchley Road Underground Station in direction outbound\t\n",
       "Failed to get intervals for Stanmore Underground Station in direction inbound\t\n",
       "Ignoring Stanmore Underground Station in direction outbound\t\n",
       "Ignoring Green Park Underground Station in direction inbound\t\n",
       "Ignoring Green Park Underground Station in direction outbound\t\n",
       "Ignoring Canary Wharf Underground Station in direction inbound\t\n",
       "Ignoring Canary Wharf Underground Station in direction outbound\t\n",
       "Ignoring Southwark Underground Station in direction inbound\t\n",
       "Ignoring Southwark Underground Station in direction outbound\t\n",
       "Ignoring Neasden Underground Station in direction inbound\t\n",
       "Ignoring Neasden Underground Station in direction outbound\t\n",
       "Ignoring St. John's Wood Underground Station in direction inbound\t\n",
       "Ignoring St. John's Wood Underground Station in direction outbound\t\n",
       "Ignoring Canons Park Underground Station in direction inbound\t\n",
       "Ignoring Canons Park Underground Station in direction outbound\t\n",
       "Ignoring Wembley Park Underground Station in direction inbound\t\n",
       "Ignoring Wembley Park Underground Station in direction outbound\t\n",
       "Ignoring Westminster Underground Station in direction inbound\t\n",
       "Ignoring Westminster Underground Station in direction outbound\t\n",
       "Ignoring Kilburn Underground Station in direction inbound\t\n",
       "Ignoring Kilburn Underground Station in direction outbound\t\n",
       "Ignoring Swiss Cottage Underground Station in direction inbound\t\n",
       "Ignoring Swiss Cottage Underground Station in direction outbound\t\n",
       "Ignoring Kingsbury Underground Station in direction inbound\t\n",
       "Ignoring Kingsbury Underground Station in direction outbound\t\n",
       "Ignoring Willesden Green Underground Station in direction inbound\t\n",
       "Ignoring Willesden Green Underground Station in direction outbound\t\n",
       "Ignoring West Hampstead Underground Station in direction inbound\t\n",
       "Ignoring West Hampstead Underground Station in direction outbound\t\n",
       "Ignoring Bond Street Underground Station in direction inbound\t\n",
       "Ignoring Bond Street Underground Station in direction outbound\t\n",
       "Ignoring West Ham Underground Station in direction inbound\t\n",
       "Ignoring West Ham Underground Station in direction outbound\t\n",
       "Ignoring Queensbury Underground Station in direction inbound\t\n",
       "Ignoring Queensbury Underground Station in direction outbound\t\n",
       "Ignoring London Bridge Underground Station in direction inbound\t\n",
       "Ignoring London Bridge Underground Station in direction outbound\t\n",
       "Ignoring Baker Street Underground Station in direction inbound\t\n",
       "Ignoring Baker Street Underground Station in direction outbound\t\n",
       "Ignoring Waterloo Underground Station in direction inbound\t\n",
       "Ignoring Waterloo Underground Station in direction outbound\t\n",
       "Ignoring Stratford Underground Station in direction inbound\t\n",
       "Failed to get intervals for Stratford Underground Station in direction outbound\t\n",
       "Ignoring North Greenwich Underground Station in direction inbound\t\n",
       "Ignoring North Greenwich Underground Station in direction outbound\t\n",
       "Ignoring Bermondsey Underground Station in direction inbound\t\n",
       "Ignoring Bermondsey Underground Station in direction outbound\t\n",
       "Ignoring Canada Water Underground Station in direction inbound\t\n",
       "Ignoring Canada Water Underground Station in direction outbound\t\n",
       "Getting information for line london-overground\t\n",
       "Failed to get intervals for Southbury Rail Station in direction inbound\t\n",
       "Failed to get intervals for Southbury Rail Station in direction outbound\t\n"
      ]
     },
     "execution_count": 5,
     "metadata": {},
     "output_type": "execute_result"
    },
    {
     "data": {
      "text/plain": [
       "Failed to get intervals for Canonbury Rail Station in direction inbound\t\n"
      ]
     },
     "execution_count": 5,
     "metadata": {},
     "output_type": "execute_result"
    },
    {
     "data": {
      "text/plain": [
       "Failed to get intervals for Canonbury Rail Station in direction outbound\t\n",
       "Failed to get intervals for Chingford Rail Station in direction inbound\t\n"
      ]
     },
     "execution_count": 5,
     "metadata": {},
     "output_type": "execute_result"
    },
    {
     "data": {
      "text/plain": [
       "Failed to get intervals for Chingford Rail Station in direction outbound\t\n"
      ]
     },
     "execution_count": 5,
     "metadata": {},
     "output_type": "execute_result"
    },
    {
     "data": {
      "text/plain": [
       "Failed to get intervals for Wapping Rail Station in direction inbound\t\n",
       "Failed to get intervals for Wapping Rail Station in direction outbound\t\n",
       "Failed to get intervals for Theobalds Grove Rail Station in direction inbound\t\n",
       "Failed to get intervals for Theobalds Grove Rail Station in direction outbound\t\n"
      ]
     },
     "execution_count": 5,
     "metadata": {},
     "output_type": "execute_result"
    },
    {
     "data": {
      "text/plain": [
       "Failed to get intervals for South Kenton Rail Station in direction inbound\t\n",
       "Failed to get intervals for South Kenton Rail Station in direction outbound\t\n",
       "Failed to get intervals for Kensal Rise Rail Station in direction inbound\t\n",
       "Failed to get intervals for Kensal Rise Rail Station in direction outbound\t\n",
       "Failed to get intervals for Honor Oak Park Rail Station in direction inbound\t\n",
       "Failed to get intervals for Honor Oak Park Rail Station in direction outbound\t\n"
      ]
     },
     "execution_count": 5,
     "metadata": {},
     "output_type": "execute_result"
    },
    {
     "data": {
      "text/plain": [
       "Failed to get intervals for Anerley Rail Station in direction inbound\t\n",
       "Failed to get intervals for Anerley Rail Station in direction outbound\t\n",
       "Failed to get intervals for Clapton Rail Station in direction inbound\t\n",
       "Failed to get intervals for Clapton Rail Station in direction outbound\t\n",
       "Failed to get intervals for West Hampstead Rail Station in direction inbound\t\n",
       "Failed to get intervals for West Hampstead Rail Station in direction outbound\t\n",
       "Failed to get intervals for Hackney Downs Rail Station in direction inbound\t\n"
      ]
     },
     "execution_count": 5,
     "metadata": {},
     "output_type": "execute_result"
    },
    {
     "data": {
      "text/plain": [
       "Failed to get intervals for Hackney Downs Rail Station in direction outbound\t\n",
       "Failed to get intervals for Emerson Park Rail Station in direction inbound\t\n",
       "Failed to get intervals for Emerson Park Rail Station in direction outbound\t\n",
       "Failed to get intervals for Forest Hill Rail Station in direction inbound\t\n",
       "Failed to get intervals for Forest Hill Rail Station in direction outbound\t\n"
      ]
     },
     "execution_count": 5,
     "metadata": {},
     "output_type": "execute_result"
    },
    {
     "data": {
      "text/plain": [
       "Failed to get intervals for Kentish Town West Rail Station in direction inbound\t\n",
       "Failed to get intervals for Kentish Town West Rail Station in direction outbound\t\n",
       "Failed to get intervals for Shepherds Bush Rail Station in direction inbound\t\n",
       "Failed to get intervals for Shepherds Bush Rail Station in direction outbound\t\n",
       "Failed to get intervals for Leyton Midland Road Rail Station in direction inbound\t\n",
       "Failed to get intervals for Leyton Midland Road Rail Station in direction outbound\t\n",
       "Failed to get intervals for London Fields Rail Station in direction inbound\t\n"
      ]
     },
     "execution_count": 5,
     "metadata": {},
     "output_type": "execute_result"
    },
    {
     "data": {
      "text/plain": [
       "Failed to get intervals for London Fields Rail Station in direction outbound\t\n",
       "Failed to get intervals for Hatch End Rail Station in direction inbound\t\n",
       "Failed to get intervals for Hatch End Rail Station in direction outbound\t\n",
       "Failed to get intervals for Stratford (London) Rail Station in direction inbound\t\n",
       "Failed to get intervals for Stratford (London) Rail Station in direction outbound\t\n",
       "Failed to get intervals for Camden Road Rail Station in direction inbound\t\n"
      ]
     },
     "execution_count": 5,
     "metadata": {},
     "output_type": "execute_result"
    },
    {
     "data": {
      "text/plain": [
       "Failed to get intervals for Camden Road Rail Station in direction outbound\t\n",
       "Failed to get intervals for Denmark Hill Rail Station in direction inbound\t\n",
       "Failed to get intervals for Denmark Hill Rail Station in direction outbound\t\n",
       "Failed to get intervals for Surrey Quays Rail Station in direction inbound\t\n",
       "Failed to get intervals for Surrey Quays Rail Station in direction outbound\t\n",
       "Failed to get intervals for Watford Junction Rail Station in direction inbound\t\n"
      ]
     },
     "execution_count": 5,
     "metadata": {},
     "output_type": "execute_result"
    },
    {
     "data": {
      "text/plain": [
       "Failed to get intervals for Watford Junction Rail Station in direction outbound\t\n",
       "Failed to get intervals for Wanstead Park Rail Station in direction inbound\t\n",
       "Failed to get intervals for Wanstead Park Rail Station in direction outbound\t\n",
       "Failed to get intervals for Norwood Junction Rail Station in direction inbound\t\n",
       "Failed to get intervals for Norwood Junction Rail Station in direction outbound\t\n",
       "Failed to get intervals for Walthamstow Queens Road Rail Station in direction inbound\t\n"
      ]
     },
     "execution_count": 5,
     "metadata": {},
     "output_type": "execute_result"
    },
    {
     "data": {
      "text/plain": [
       "Failed to get intervals for Walthamstow Queens Road Rail Station in direction outbound\t\n",
       "Failed to get intervals for Crystal Palace Rail Station in direction inbound\t\n",
       "Failed to get intervals for Crystal Palace Rail Station in direction outbound\t\n",
       "Failed to get intervals for Wembley Central Rail Station in direction inbound\t\n",
       "Failed to get intervals for Wembley Central Rail Station in direction outbound\t\n"
      ]
     },
     "execution_count": 5,
     "metadata": {},
     "output_type": "execute_result"
    },
    {
     "data": {
      "text/plain": [
       "Failed to get intervals for Walthamstow Central Rail Station in direction inbound\t\n",
       "Failed to get intervals for Walthamstow Central Rail Station in direction outbound\t\n",
       "Failed to get intervals for Leytonstone High Road Rail Station in direction inbound\t\n"
      ]
     },
     "execution_count": 5,
     "metadata": {},
     "output_type": "execute_result"
    },
    {
     "data": {
      "text/plain": [
       "Failed to get intervals for Leytonstone High Road Rail Station in direction outbound\t\n",
       "Failed to get intervals for Wandsworth Road Rail Station in direction inbound\t\n",
       "Failed to get intervals for Wandsworth Road Rail Station in direction outbound\t\n"
      ]
     },
     "execution_count": 5,
     "metadata": {},
     "output_type": "execute_result"
    },
    {
     "data": {
      "text/plain": [
       "Failed to get intervals for Willesden Junction Rail Station in direction inbound\t\n",
       "Failed to get intervals for Willesden Junction Rail Station in direction outbound\t\n",
       "Failed to get intervals for White Hart Lane Rail Station in direction inbound\t\n",
       "Failed to get intervals for White Hart Lane Rail Station in direction outbound\t\n",
       "Failed to get intervals for Clapham Junction Rail Station in direction inbound\t\n",
       "Failed to get intervals for Clapham Junction Rail Station in direction outbound\t\n",
       "Failed to get intervals for Wood Street Rail Station in direction inbound\t\n"
      ]
     },
     "execution_count": 5,
     "metadata": {},
     "output_type": "execute_result"
    },
    {
     "data": {
      "text/plain": [
       "Failed to get intervals for Wood Street Rail Station in direction outbound\t\n",
       "Failed to get intervals for Gunnersbury Rail Station in direction inbound\t\n",
       "Failed to get intervals for Gunnersbury Rail Station in direction outbound\t\n",
       "Failed to get intervals for New Cross Gate Rail Station in direction inbound\t\n",
       "Failed to get intervals for New Cross Gate Rail Station in direction outbound\t\n"
      ]
     },
     "execution_count": 5,
     "metadata": {},
     "output_type": "execute_result"
    },
    {
     "data": {
      "text/plain": [
       "Failed to get intervals for Penge West Rail Station in direction inbound\t\n",
       "Failed to get intervals for Penge West Rail Station in direction outbound\t\n",
       "Failed to get intervals for Hackney Central Rail Station in direction inbound\t\n",
       "Failed to get intervals for Hackney Central Rail Station in direction outbound\t\n",
       "Failed to get intervals for Whitechapel Rail Station in direction inbound\t\n",
       "Failed to get intervals for Whitechapel Rail Station in direction outbound\t\n"
      ]
     },
     "execution_count": 5,
     "metadata": {},
     "output_type": "execute_result"
    },
    {
     "data": {
      "text/plain": [
       "Failed to get intervals for West Croydon Rail Station in direction inbound\t\n",
       "Failed to get intervals for West Croydon Rail Station in direction outbound\t\n",
       "Failed to get intervals for West Brompton Rail Station in direction inbound\t\n",
       "Failed to get intervals for West Brompton Rail Station in direction outbound\t\n"
      ]
     },
     "execution_count": 5,
     "metadata": {},
     "output_type": "execute_result"
    },
    {
     "data": {
      "text/plain": [
       "Failed to get intervals for Watford High Street Rail Station in direction inbound\t\n",
       "Failed to get intervals for Watford High Street Rail Station in direction outbound\t\n",
       "Failed to get intervals for Upper Holloway Rail Station in direction inbound\t\n",
       "Failed to get intervals for Upper Holloway Rail Station in direction outbound\t\n",
       "Failed to get intervals for Canada Water Rail Station in direction inbound\t\n",
       "Failed to get intervals for Canada Water Rail Station in direction outbound\t\n"
      ]
     },
     "execution_count": 5,
     "metadata": {},
     "output_type": "execute_result"
    },
    {
     "data": {
      "text/plain": [
       "Failed to get intervals for Headstone Lane Rail Station in direction inbound\t\n",
       "Failed to get intervals for Headstone Lane Rail Station in direction outbound\t\n",
       "Failed to get intervals for Romford Rail Station in direction inbound\t\n",
       "Failed to get intervals for Romford Rail Station in direction outbound\t\n",
       "Failed to get intervals for Bruce Grove Rail Station in direction inbound\t\n",
       "Failed to get intervals for Bruce Grove Rail Station in direction outbound\t\n"
      ]
     },
     "execution_count": 5,
     "metadata": {},
     "output_type": "execute_result"
    },
    {
     "data": {
      "text/plain": [
       "Failed to get intervals for Haggerston Rail Station in direction inbound\t\n",
       "Failed to get intervals for Haggerston Rail Station in direction outbound\t\n",
       "Failed to get intervals for Stonebridge Park Rail Station in direction inbound\t\n",
       "Failed to get intervals for Stonebridge Park Rail Station in direction outbound\t\n",
       "Failed to get intervals for Barking Rail Station in direction inbound\t\n"
      ]
     },
     "execution_count": 5,
     "metadata": {},
     "output_type": "execute_result"
    },
    {
     "data": {
      "text/plain": [
       "Failed to get intervals for Barking Rail Station in direction outbound\t\n",
       "Failed to get intervals for Sydenham Rail Station in direction inbound\t\n",
       "Failed to get intervals for Sydenham Rail Station in direction outbound\t\n"
      ]
     },
     "execution_count": 5,
     "metadata": {},
     "output_type": "execute_result"
    },
    {
     "data": {
      "text/plain": [
       "Failed to get intervals for South Tottenham Rail Station in direction inbound\t\n",
       "Failed to get intervals for South Tottenham Rail Station in direction outbound\t\n",
       "Failed to get intervals for Queens Road Peckham Rail Station in direction inbound\t\n",
       "Failed to get intervals for Queens Road Peckham Rail Station in direction outbound\t\n",
       "Failed to get intervals for Turkey Street Rail Station in direction inbound\t\n",
       "Failed to get intervals for Turkey Street Rail Station in direction outbound\t\n"
      ]
     },
     "execution_count": 5,
     "metadata": {},
     "output_type": "execute_result"
    },
    {
     "data": {
      "text/plain": [
       "Failed to get intervals for Harlesden Rail Station in direction inbound\t\n",
       "Failed to get intervals for Harlesden Rail Station in direction outbound\t\n",
       "Failed to get intervals for Clapham Junction Rail Station in direction inbound\t\n",
       "Failed to get intervals for Clapham Junction Rail Station in direction outbound\t\n",
       "Failed to get intervals for Stamford Hill Rail Station in direction inbound\t\n",
       "Failed to get intervals for Stamford Hill Rail Station in direction outbound\t\n"
      ]
     },
     "execution_count": 5,
     "metadata": {},
     "output_type": "execute_result"
    },
    {
     "data": {
      "text/plain": [
       "Failed to get intervals for Homerton Rail Station in direction inbound\t\n",
       "Failed to get intervals for Homerton Rail Station in direction outbound\t\n"
      ]
     },
     "execution_count": 5,
     "metadata": {},
     "output_type": "execute_result"
    },
    {
     "data": {
      "text/plain": [
       "Failed to get intervals for Stoke Newington Rail Station in direction inbound\t\n",
       "Failed to get intervals for Stoke Newington Rail Station in direction outbound\t\n",
       "Failed to get intervals for Kenton Rail Station in direction inbound\t\n",
       "Failed to get intervals for Kenton Rail Station in direction outbound\t\n",
       "Failed to get intervals for Brondesbury Park Rail Station in direction inbound\t\n",
       "Failed to get intervals for Brondesbury Park Rail Station in direction outbound\t\n"
      ]
     },
     "execution_count": 5,
     "metadata": {},
     "output_type": "execute_result"
    },
    {
     "data": {
      "text/plain": [
       "Failed to get intervals for Rotherhithe Rail Station in direction inbound\t\n",
       "Failed to get intervals for Rotherhithe Rail Station in direction outbound\t\n",
       "Failed to get intervals for Seven Sisters Rail Station in direction inbound\t\n",
       "Failed to get intervals for Seven Sisters Rail Station in direction outbound\t\n"
      ]
     },
     "execution_count": 5,
     "metadata": {},
     "output_type": "execute_result"
    },
    {
     "data": {
      "text/plain": [
       "Failed to get intervals for St James Street (London) Rail Station in direction inbound\t\n",
       "Failed to get intervals for St James Street (London) Rail Station in direction outbound\t\n",
       "Failed to get intervals for Clapham High Street Rail Station in direction inbound\t\n"
      ]
     },
     "execution_count": 5,
     "metadata": {},
     "output_type": "execute_result"
    },
    {
     "data": {
      "text/plain": [
       "Failed to get intervals for Clapham High Street Rail Station in direction outbound\t\n",
       "Failed to get intervals for Silver Street Rail Station in direction inbound\t\n",
       "Failed to get intervals for Silver Street Rail Station in direction outbound\t\n",
       "Failed to get intervals for Kensington (Olympia) Rail Station in direction inbound\t\n",
       "Failed to get intervals for Kensington (Olympia) Rail Station in direction outbound\t\n"
      ]
     },
     "execution_count": 5,
     "metadata": {},
     "output_type": "execute_result"
    },
    {
     "data": {
      "text/plain": [
       "Failed to get intervals for Kew Gardens Rail Station in direction inbound\t\n",
       "Failed to get intervals for Kew Gardens Rail Station in direction outbound\t\n",
       "Failed to get intervals for Caledonian Road & Barnsbury Rail Station in direction inbound\t\n",
       "Failed to get intervals for Caledonian Road & Barnsbury Rail Station in direction outbound\t\n",
       "Failed to get intervals for South Hampstead Rail Station in direction inbound\t\n"
      ]
     },
     "execution_count": 5,
     "metadata": {},
     "output_type": "execute_result"
    },
    {
     "data": {
      "text/plain": [
       "Failed to get intervals for South Hampstead Rail Station in direction outbound\t\n",
       "Failed to get intervals for Shadwell Rail Station in direction inbound\t\n",
       "Failed to get intervals for Shadwell Rail Station in direction outbound\t\n",
       "Failed to get intervals for North Wembley Rail Station in direction inbound\t\n",
       "Failed to get intervals for North Wembley Rail Station in direction outbound\t\n",
       "Failed to get intervals for London Liverpool Street Rail Station in direction inbound\t\n"
      ]
     },
     "execution_count": 5,
     "metadata": {},
     "output_type": "execute_result"
    },
    {
     "data": {
      "text/plain": [
       "Failed to get intervals for London Liverpool Street Rail Station in direction outbound\t\n"
      ]
     },
     "execution_count": 5,
     "metadata": {},
     "output_type": "execute_result"
    },
    {
     "data": {
      "text/plain": [
       "Failed to get intervals for South Acton Rail Station in direction inbound\t\n",
       "Failed to get intervals for South Acton Rail Station in direction outbound\t\n",
       "Failed to get intervals for Highbury & Islington Rail Station in direction inbound\t\n",
       "Failed to get intervals for Highbury & Islington Rail Station in direction outbound\t\n"
      ]
     },
     "execution_count": 5,
     "metadata": {},
     "output_type": "execute_result"
    },
    {
     "data": {
      "text/plain": [
       "Failed to get intervals for Richmond (London) Rail Station in direction inbound\t\n",
       "Failed to get intervals for Richmond (London) Rail Station in direction outbound\t\n",
       "Failed to get intervals for Rectory Road Rail Station in direction inbound\t\n",
       "Failed to get intervals for Rectory Road Rail Station in direction outbound\t\n",
       "Failed to get intervals for Imperial Wharf Rail Station in direction inbound\t\n"
      ]
     },
     "execution_count": 5,
     "metadata": {},
     "output_type": "execute_result"
    },
    {
     "data": {
      "text/plain": [
       "Failed to get intervals for Imperial Wharf Rail Station in direction outbound\t\n",
       "Failed to get intervals for Bushey Rail Station in direction inbound\t\n",
       "Failed to get intervals for Bushey Rail Station in direction outbound\t\n",
       "Failed to get intervals for Edmonton Green Rail Station in direction inbound\t\n"
      ]
     },
     "execution_count": 5,
     "metadata": {},
     "output_type": "execute_result"
    },
    {
     "data": {
      "text/plain": [
       "Failed to get intervals for Edmonton Green Rail Station in direction outbound\t\n",
       "Failed to get intervals for Harringay Green Lanes Rail Station in direction inbound\t\n",
       "Failed to get intervals for Harringay Green Lanes Rail Station in direction outbound\t\n",
       "Failed to get intervals for Dalston Junction Rail Station in direction inbound\t\n"
      ]
     },
     "execution_count": 5,
     "metadata": {},
     "output_type": "execute_result"
    },
    {
     "data": {
      "text/plain": [
       "Failed to get intervals for Dalston Junction Rail Station in direction outbound\t\n",
       "Failed to get intervals for Cheshunt Rail Station in direction inbound\t\n",
       "Failed to get intervals for Cheshunt Rail Station in direction outbound\t\n",
       "Failed to get intervals for Queens Park (London) Rail Station in direction inbound\t\n",
       "Failed to get intervals for Queens Park (London) Rail Station in direction outbound\t\n",
       "Failed to get intervals for Peckham Rye Rail Station in direction inbound\t\n"
      ]
     },
     "execution_count": 5,
     "metadata": {},
     "output_type": "execute_result"
    },
    {
     "data": {
      "text/plain": [
       "Failed to get intervals for Peckham Rye Rail Station in direction outbound\t\n",
       "Failed to get intervals for New Cross ELL Rail Station in direction inbound\t\n",
       "Failed to get intervals for New Cross ELL Rail Station in direction outbound\t\n",
       "Failed to get intervals for Finchley Road & Frognal Rail Station in direction inbound\t\n",
       "Failed to get intervals for Finchley Road & Frognal Rail Station in direction outbound\t\n"
      ]
     },
     "execution_count": 5,
     "metadata": {},
     "output_type": "execute_result"
    },
    {
     "data": {
      "text/plain": [
       "Failed to get intervals for Dalston Kingsland Rail Station in direction inbound\t\n",
       "Failed to get intervals for Dalston Kingsland Rail Station in direction outbound\t\n",
       "Failed to get intervals for Brondesbury Rail Station in direction inbound\t\n"
      ]
     },
     "execution_count": 5,
     "metadata": {},
     "output_type": "execute_result"
    },
    {
     "data": {
      "text/plain": [
       "Failed to get intervals for Brondesbury Rail Station in direction outbound\t\n",
       "Failed to get intervals for Hampstead Heath Rail Station in direction inbound\t\n",
       "Failed to get intervals for Hampstead Heath Rail Station in direction outbound\t\n",
       "Failed to get intervals for Bush Hill Park Rail Station in direction inbound\t\n",
       "Failed to get intervals for Bush Hill Park Rail Station in direction outbound\t\n",
       "Failed to get intervals for Acton Central Rail Station in direction inbound\t\n",
       "Failed to get intervals for Acton Central Rail Station in direction outbound\t\n"
      ]
     },
     "execution_count": 5,
     "metadata": {},
     "output_type": "execute_result"
    },
    {
     "data": {
      "text/plain": [
       "Failed to get intervals for Harrow & Wealdstone Rail Station in direction inbound\t\n"
      ]
     },
     "execution_count": 5,
     "metadata": {},
     "output_type": "execute_result"
    },
    {
     "data": {
      "text/plain": [
       "Failed to get intervals for Harrow & Wealdstone Rail Station in direction outbound\t\n",
       "Failed to get intervals for Crouch Hill Rail Station in direction inbound\t\n"
      ]
     },
     "execution_count": 5,
     "metadata": {},
     "output_type": "execute_result"
    },
    {
     "data": {
      "text/plain": [
       "Failed to get intervals for Crouch Hill Rail Station in direction outbound\t\n"
      ]
     },
     "execution_count": 5,
     "metadata": {},
     "output_type": "execute_result"
    },
    {
     "data": {
      "text/plain": [
       "Failed to get intervals for Brockley Rail Station in direction inbound\t\n",
       "Failed to get intervals for Brockley Rail Station in direction outbound\t\n",
       "Failed to get intervals for Kilburn High Road Rail Station in direction inbound\t\n"
      ]
     },
     "execution_count": 5,
     "metadata": {},
     "output_type": "execute_result"
    },
    {
     "data": {
      "text/plain": [
       "Failed to get intervals for Kilburn High Road Rail Station in direction outbound\t\n",
       "Failed to get intervals for Blackhorse Road Rail Station in direction inbound\t\n",
       "Failed to get intervals for Blackhorse Road Rail Station in direction outbound\t\n"
      ]
     },
     "execution_count": 5,
     "metadata": {},
     "output_type": "execute_result"
    },
    {
     "data": {
      "text/plain": [
       "Failed to get intervals for Carpenders Park Rail Station in direction inbound\t\n",
       "Failed to get intervals for Carpenders Park Rail Station in direction outbound\t\n",
       "Failed to get intervals for London Euston Rail Station in direction inbound\t\n",
       "Failed to get intervals for London Euston Rail Station in direction outbound\t\n",
       "Failed to get intervals for Hackney Wick Rail Station in direction inbound\t\n"
      ]
     },
     "execution_count": 5,
     "metadata": {},
     "output_type": "execute_result"
    },
    {
     "data": {
      "text/plain": [
       "Failed to get intervals for Hackney Wick Rail Station in direction outbound\t\n",
       "Failed to get intervals for Upminster Rail Station in direction inbound\t\n",
       "Failed to get intervals for Upminster Rail Station in direction outbound\t\n",
       "Failed to get intervals for Kensal Green Rail Station in direction inbound\t\n",
       "Failed to get intervals for Kensal Green Rail Station in direction outbound\t\n",
       "Failed to get intervals for Highams Park Rail Station in direction inbound\t\n",
       "Failed to get intervals for Highams Park Rail Station in direction outbound\t\n"
      ]
     },
     "execution_count": 5,
     "metadata": {},
     "output_type": "execute_result"
    },
    {
     "data": {
      "text/plain": [
       "Failed to get intervals for Cambridge Heath (London) Rail Station in direction inbound\t\n"
      ]
     },
     "execution_count": 5,
     "metadata": {},
     "output_type": "execute_result"
    },
    {
     "data": {
      "text/plain": [
       "Failed to get intervals for Cambridge Heath (London) Rail Station in direction outbound\t\n",
       "Failed to get intervals for Hoxton Rail Station in direction inbound\t\n",
       "Failed to get intervals for Hoxton Rail Station in direction outbound\t\n",
       "Failed to get intervals for Enfield Town Rail Station in direction inbound\t\n"
      ]
     },
     "execution_count": 5,
     "metadata": {},
     "output_type": "execute_result"
    },
    {
     "data": {
      "text/plain": [
       "Failed to get intervals for Enfield Town Rail Station in direction outbound\t\n",
       "Failed to get intervals for Gospel Oak Rail Station in direction inbound\t\n",
       "Failed to get intervals for Gospel Oak Rail Station in direction outbound\t\n",
       "Failed to get intervals for Bethnal Green Rail Station in direction inbound\t\n"
      ]
     },
     "execution_count": 5,
     "metadata": {},
     "output_type": "execute_result"
    },
    {
     "data": {
      "text/plain": [
       "Failed to get intervals for Bethnal Green Rail Station in direction outbound\t\n",
       "Failed to get intervals for Woodgrange Park Rail Station in direction inbound\t\n",
       "Failed to get intervals for Woodgrange Park Rail Station in direction outbound\t\n",
       "Failed to get intervals for Shoreditch High Street Rail Station in direction inbound\t\n",
       "Failed to get intervals for Shoreditch High Street Rail Station in direction outbound\t\n",
       "Getting information for line metropolitan\t\n"
      ]
     },
     "execution_count": 5,
     "metadata": {},
     "output_type": "execute_result"
    },
    {
     "data": {
      "text/plain": [
       "Ignoring King's Cross St. Pancras Underground Station in direction inbound\t\n",
       "Ignoring King's Cross St. Pancras Underground Station in direction outbound\t\n",
       "Ignoring North Harrow Underground Station in direction inbound\t\n",
       "Ignoring North Harrow Underground Station in direction outbound\t\n",
       "Ignoring West Harrow Underground Station in direction inbound\t\n",
       "Ignoring West Harrow Underground Station in direction outbound\t\n",
       "Ignoring Rayners Lane Underground Station in direction inbound\t\n",
       "Ignoring Rayners Lane Underground Station in direction outbound\t\n",
       "Ignoring Euston Square Underground Station in direction inbound\t\n",
       "Ignoring Euston Square Underground Station in direction outbound\t\n",
       "Ignoring Ruislip Manor Underground Station in direction inbound\t\n",
       "Ignoring Ruislip Manor Underground Station in direction outbound\t\n",
       "Ignoring Croxley Underground Station in direction inbound\t\n",
       "Ignoring Croxley Underground Station in direction outbound\t\n",
       "Ignoring Watford Underground Station in direction inbound\t\n",
       "Ignoring Watford Underground Station in direction outbound\t\n",
       "Ignoring Hillingdon Underground Station in direction inbound\t\n",
       "Ignoring Hillingdon Underground Station in direction outbound\t\n",
       "Ignoring Northwick Park Underground Station in direction inbound\t\n",
       "Ignoring Northwick Park Underground Station in direction outbound\t\n",
       "Ignoring Great Portland Street Underground Station in direction inbound\t\n",
       "Ignoring Great Portland Street Underground Station in direction outbound\t\n",
       "Ignoring Ickenham Underground Station in direction inbound\t\n",
       "Ignoring Ickenham Underground Station in direction outbound\t\n",
       "Ignoring Chorleywood Underground Station in direction inbound\t\n",
       "Ignoring Chorleywood Underground Station in direction outbound\t\n",
       "Ignoring Harrow-on-the-Hill Underground Station in direction inbound\t\n",
       "Ignoring Harrow-on-the-Hill Underground Station in direction outbound\t\n",
       "Failed to get intervals for Uxbridge Underground Station in direction inbound\t\n",
       "Ignoring Uxbridge Underground Station in direction outbound\t\n",
       "Ignoring Ruislip Underground Station in direction inbound\t\n",
       "Ignoring Ruislip Underground Station in direction outbound\t\n",
       "Ignoring Chalfont & Latimer Underground Station in direction inbound\t\n",
       "Ignoring Chalfont & Latimer Underground Station in direction outbound\t\n",
       "Ignoring Farringdon Underground Station in direction inbound\t\n",
       "Ignoring Farringdon Underground Station in direction outbound\t\n",
       "Ignoring Wembley Park Underground Station in direction inbound\t\n",
       "Ignoring Wembley Park Underground Station in direction outbound\t\n",
       "Ignoring Finchley Road Underground Station in direction inbound\t\n",
       "Ignoring Finchley Road Underground Station in direction outbound\t\n",
       "Ignoring Moor Park Underground Station in direction inbound\t\n",
       "Ignoring Moor Park Underground Station in direction outbound\t\n",
       "Failed to get intervals for Amersham Underground Station in direction inbound\t\n",
       "Ignoring Amersham Underground Station in direction outbound\t\n",
       "Ignoring Moorgate Underground Station in direction inbound\t\n",
       "Ignoring Moorgate Underground Station in direction outbound\t\n",
       "Ignoring Preston Road Underground Station in direction inbound\t\n",
       "Ignoring Preston Road Underground Station in direction outbound\t\n",
       "Ignoring Eastcote Underground Station in direction inbound\t\n",
       "Ignoring Eastcote Underground Station in direction outbound\t\n",
       "Ignoring Baker Street Underground Station in direction inbound\t\n",
       "Ignoring Baker Street Underground Station in direction outbound\t\n",
       "Ignoring Liverpool Street Underground Station in direction inbound\t\n",
       "Ignoring Liverpool Street Underground Station in direction outbound\t\n",
       "Ignoring Barbican Underground Station in direction inbound\t\n",
       "Ignoring Barbican Underground Station in direction outbound\t\n",
       "Ignoring Northwood Underground Station in direction inbound\t\n",
       "Ignoring Northwood Underground Station in direction outbound\t\n",
       "Ignoring Northwood Hills Underground Station in direction inbound\t\n",
       "Ignoring Northwood Hills Underground Station in direction outbound\t\n",
       "Ignoring Aldgate Underground Station in direction inbound\t\n",
       "Failed to get intervals for Aldgate Underground Station in direction outbound\t\n",
       "Failed to get intervals for Chesham Underground Station in dir"
      ]
     },
     "execution_count": 5,
     "metadata": {},
     "output_type": "execute_result"
    },
    {
     "data": {
      "text/plain": [
       "ection inbound\t\n",
       "Ignoring Chesham Underground Station in direction outbound\t\n",
       "Ignoring Rickmansworth Underground Station in direction inbound\t\n",
       "Ignoring Rickmansworth Underground Station in direction outbound\t\n",
       "Ignoring Pinner Underground Station in direction inbound\t\n",
       "Ignoring Pinner Underground Station in direction outbound\t\n",
       "Getting information for line northern\t\n",
       "Ignoring King's Cross St. Pancras Underground Station in direction inbound\t\n",
       "Ignoring King's Cross St. Pancras Underground Station in direction outbound\t\n",
       "Ignoring Tooting Broadway Underground Station in direction inbound\t\n",
       "Ignoring Tooting Broadway Underground Station in direction outbound\t\n",
       "Ignoring Edgware Underground Station in direction inbound\t\n",
       "Failed to get intervals for Edgware Underground Station in direction outbound\t\n",
       "Ignoring Old Street Underground Station in direction inbound\t\n",
       "Ignoring Old Street Underground Station in direction outbound\t\n",
       "Ignoring East Finchley Underground Station in direction inbound\t\n",
       "Ignoring East Finchley Underground Station in direction outbound\t\n",
       "Ignoring Oval Underground Station in direction inbound\t\n",
       "Ignoring Oval Underground Station in direction outbound\t\n",
       "Ignoring Balham Underground Station in direction inbound\t\n",
       "Ignoring Balham Underground Station in direction outbound\t\n",
       "Ignoring Woodside Park Underground Station in direction inbound\t\n",
       "Ignoring Woodside Park Underground Station in direction outbound\t\n",
       "Ignoring Camden Town Underground Station in direction inbound\t\n",
       "Ignoring Camden Town Underground Station in direction outbound\t\n",
       "Ignoring Tottenham Court Road Underground Station in direction inbound\t\n",
       "Ignoring Tottenham Court Road Underground Station in direction outbound\t\n",
       "Ignoring Brent Cross Underground Station in direction inbound\t\n",
       "Ignoring Brent Cross Underground Station in direction outbound\t\n",
       "Failed to get intervals for Morden Underground Station in direction inbound\t\n",
       "Ignoring Morden Underground Station in direction outbound\t\n",
       "Ignoring Goodge Street Underground Station in direction inbound\t\n",
       "Ignoring Goodge Street Underground Station in direction outbound\t\n",
       "Ignoring Archway Underground Station in direction inbound\t\n",
       "Ignoring Archway Underground Station in direction outbound\t\n",
       "Ignoring Leicester Square Underground Station in direction inbound\t\n",
       "Ignoring Leicester Square Underground Station in direction outbound\t\n",
       "Ignoring Hendon Central Underground Station in direction inbound\t\n",
       "Ignoring Hendon Central Underground Station in direction outbound\t\n",
       "Ignoring High Barnet Underground Station in direction inbound\t\n",
       "Failed to get intervals for High Barnet Underground Station in direction outbound\t\n",
       "Ignoring Finchley Central Underground Station in direction inbound\t\n",
       "Ignoring Finchley Central Underground Station in direction outbound\t\n",
       "Ignoring Clapham South Underground Station in direction inbound\t\n",
       "Ignoring Clapham South Underground Station in direction outbound\t\n",
       "Ignoring Warren Street Underground Station in direction inbound\t\n",
       "Ignoring Warren Street Underground Station in direction outbound\t\n",
       "Ignoring Waterloo Underground Station in direction inbound\t\n",
       "Ignoring Waterloo Underground Station in direction outbound\t\n",
       "Ignoring Colindale Underground Station in direction inbound\t\n",
       "Ignoring Colindale Underground Station in direction outbound\t\n",
       "Ignoring Clapham North Underground Station in direction inbound\t\n",
       "Ignoring Clapham North Underground Station in direction outbound\t\n",
       "Ignoring South Wimbledon Underground Station in direction inbound\t\n",
       "Ignoring South Wimbledon Underground Station in direction outbound\t\n",
       "Ignoring Bank Underground Station in direction inbound\t\n",
       "Ignoring Bank Underground Station in direction outbound\t\n",
       "Ignoring Highgate Underground Station in direction inbound\t\n",
       "Ignoring Highgate Underground Station in direction outbound\t\n",
       "Ignoring Tooting Bec Underground Station in direction inbound\t\n",
       "Ignoring Tooting Bec Underground Station in direction outbound\t\n",
       "Ignoring Tufnell Park Underground Station in direction inbound\t\n",
       "Ignoring Tufnell Park Underground Station in direction outbound\t\n",
       "Ignoring Mill Hill East Underground Station in direction inbound\t\n"
      ]
     },
     "execution_count": 5,
     "metadata": {},
     "output_type": "execute_result"
    },
    {
     "data": {
      "text/plain": [
       "Failed to get intervals for Mill Hill East Underground Station in direction outbound\t\n",
       "Ignoring Totteridge & Whetstone Underground Station in direction inbound\t\n",
       "Ignoring Totteridge & Whetstone Underground Station in direction outbound\t\n",
       "Ignoring Clapham Common Underground Station in direction inbound\t\n",
       "Ignoring Clapham Common Underground Station in direction outbound\t\n",
       "Ignoring Stockwell Underground Station in direction inbound\t\n",
       "Ignoring Stockwell Underground Station in direction outbound\t\n",
       "Ignoring Kentish Town Underground Station in direction inbound\t\n",
       "Ignoring Kentish Town Underground Station in direction outbound\t\n",
       "Ignoring Mornington Crescent Underground Station in direction inbound\t\n",
       "Ignoring Mornington Crescent Underground Station in direction outbound\t\n",
       "Ignoring Moorgate Underground Station in direction inbound\t\n",
       "Ignoring Moorgate Underground Station in direction outbound\t\n",
       "Ignoring Colliers Wood Underground Station in direction inbound\t\n",
       "Ignoring Colliers Wood Underground Station in direction outbound\t\n",
       "Ignoring West Finchley Underground Station in direction inbound\t\n",
       "Ignoring West Finchley Underground Station in direction outbound\t\n",
       "Ignoring Embankment Underground Station in direction inbound\t\n",
       "Ignoring Embankment Underground Station in direction outbound\t\n",
       "Ignoring Elephant & Castle Underground Station in direction inbound\t\n",
       "Ignoring Elephant & Castle Underground Station in direction outbound\t\n",
       "Ignoring Golders Green Underground Station in direction inbound\t\n",
       "Ignoring Golders Green Underground Station in direction outbound\t\n",
       "Ignoring Charing Cross Underground Station in direction inbound\t\n",
       "Ignoring Charing Cross Underground Station in direction outbound\t\n",
       "Ignoring Belsize Park Underground Station in direction inbound\t\n",
       "Ignoring Belsize Park Underground Station in direction outbound\t\n",
       "Ignoring Borough Underground Station in direction inbound\t\n",
       "Ignoring Borough Underground Station in direction outbound\t\n",
       "Ignoring London Bridge Underground Station in direction inbound\t\n",
       "Ignoring London Bridge Underground Station in direction outbound\t\n",
       "Ignoring Angel Underground Station in direction inbound\t\n",
       "Ignoring Angel Underground Station in direction outbound\t\n",
       "Ignoring Burnt Oak Underground Station in direction inbound\t\n",
       "Ignoring Burnt Oak Underground Station in direction outbound\t\n",
       "Ignoring Euston Underground Station in direction inbound\t\n",
       "Ignoring Euston Underground Station in direction outbound\t\n",
       "Ignoring Kennington Underground Station in direction inbound\t\n",
       "Ignoring Kennington Underground Station in direction outbound\t\n",
       "Ignoring Hampstead Underground Station in direction inbound\t\n",
       "Ignoring Hampstead Underground Station in direction outbound\t\n",
       "Ignoring Chalk Farm Underground Station in direction inbound\t\n",
       "Ignoring Chalk Farm Underground Station in direction outbound\t\n",
       "Getting information for line piccadilly\t\n",
       "Ignoring King's Cross St. Pancras Underground Station in direction inbound\t\n",
       "Ignoring King's Cross St. Pancras Underground Station in direction outbound\t\n",
       "Ignoring Russell Square Underground Station in direction inbound\t\n",
       "Ignoring Russell Square Underground Station in direction outbound\t\n",
       "Ignoring South Ealing Underground Station in direction inbound\t\n",
       "Ignoring South Ealing Underground Station in direction outbound\t\n",
       "Ignoring Osterley Underground Station in direction inbound\t\n",
       "Ignoring Osterley Underground Station in direction outbound\t\n",
       "Ignoring Holloway Road Underground Station in direction inbound\t\n",
       "Ignoring Holloway Road Underground Station in direction outbound\t\n"
      ]
     },
     "execution_count": 5,
     "metadata": {},
     "output_type": "execute_result"
    },
    {
     "data": {
      "text/plain": [
       "Failed to get intervals for Heathrow Terminal 4 Underground Station in direction inbound\t\n",
       "Ignoring Heathrow Terminal 4 Underground Station in direction outbound\t\n",
       "Ignoring Earl's Court Underground Station in direction inbound\t\n",
       "Ignoring Earl's Court Underground Station in direction outbound\t\n",
       "Ignoring Ruislip Manor Underground Station in direction inbound\t\n",
       "Ignoring Ruislip Manor Underground Station in direction outbound\t\n",
       "Ignoring Ealing Common Underground Station in direction inbound\t\n",
       "Ignoring Ealing Common Underground Station in direction outbound\t\n",
       "Ignoring Hounslow East Underground Station in direction inbound\t\n",
       "Ignoring Hounslow East Underground Station in direction outbound\t\n",
       "Ignoring Arsenal Underground Station in direction inbound\t\n",
       "Ignoring Arsenal Underground Station in direction outbound\t\n",
       "Ignoring Barons Court Underground Station in direction inbound\t\n",
       "Ignoring Barons Court Underground Station in direction outbound\t\n",
       "Ignoring Wood Green Underground Station in direction inbound\t\n",
       "Ignoring Wood Green Underground Station in direction outbound\t\n",
       "Ignoring Hillingdon Underground Station in direction inbound\t\n",
       "Ignoring Hillingdon Underground Station in direction outbound\t\n",
       "Ignoring Arnos Grove Underground Station in direction inbound\t\n",
       "Ignoring Arnos Grove Underground Station in direction outbound\t\n",
       "Ignoring Leicester Square Underground Station in direction inbound\t\n",
       "Ignoring Leicester Square Underground Station in direction outbound\t\n",
       "Ignoring Southgate Underground Station in direction inbound\t\n",
       "Ignoring Southgate Underground Station in direction outbound\t\n",
       "Ignoring Hounslow Central Underground Station in direction inbound\t\n",
       "Ignoring Hounslow Central Underground Station in direction outbound\t\n",
       "Ignoring Oakwood Underground Station in direction inbound\t\n",
       "Ignoring Oakwood Underground Station in direction outbound\t\n",
       "Ignoring North Ealing Underground Station in direction inbound\t\n",
       "Ignoring North Ealing Underground Station in direction outbound\t\n",
       "Ignoring Turnpike Lane Underground Station in direction inbound\t\n",
       "Ignoring Turnpike Lane Underground Station in direction outbound\t\n",
       "Ignoring Turnham Green Underground Station in direction inbound\t\n",
       "Ignoring Turnham Green Underground Station in direction outbound\t\n",
       "Ignoring Ickenham Underground Station in direction inbound\t\n",
       "Ignoring Ickenham Underground Station in direction outbound\t\n",
       "Ignoring Gloucester Road Underground Station in direction inbound\t\n",
       "Ignoring Gloucester Road Underground Station in direction outbound\t\n",
       "Ignoring Sudbury Town Underground Station in direction inbound\t\n",
       "Ignoring Sudbury Town Underground Station in direction outbound\t\n",
       "Ignoring Sudbury Hill Underground Station in direction inbound\t\n",
       "Ignoring Sudbury Hill Underground Station in direction outbound\t\n",
       "Ignoring Oakwood Station in direction inbound\t\n",
       "Ignoring Oakwood Station in direction outbound\t\n",
       "Ignoring South Kensington Underground Station in direction inbound\t\n",
       "Ignoring South Kensington Underground Station in direction outbound\t\n",
       "Ignoring Green Park Underground Station in direction inbound\t\n",
       "Ignoring Green Park Underground Station in direction outbound\t\n",
       "Ignoring South Harrow Underground Station in direction inbound\t\n",
       "Ignoring South Harrow Underground Station in direction outbound\t\n",
       "Failed to get intervals for Heathrow Terminal 5 Underground Station in direction inbound\t\n",
       "Ignoring Heathrow Terminal 5 Underground Station in direction outbound\t\n",
       "Failed to get intervals for Uxbridge Underground Station in direction inbound\t\n",
       "Ignoring Uxbridge Underground Station in direction outbound\t\n",
       "Ignoring Ruislip Underground Station in direction inbound\t\n",
       "Ignoring Ruislip Underground Station in direction outbound\t\n",
       "Ignoring Rayners Lane Underground Station in direction inbound\t\n",
       "Ignoring Rayners Lane Underground Station in direction outbound\t\n",
       "Ignoring Covent Garden Underground Station in direction inbound\t\n",
       "Ignoring Covent Garden Underground Station in direction outbound\t\n",
       "Ignoring Park Royal Underground Station in direction inbound\t\n",
       "Ignoring Park Royal Underground Station in direction outbound\t\n",
       "Ignoring Piccadilly Circus Underground Station in direction inbound\t\n",
       "Ignor"
      ]
     },
     "execution_count": 5,
     "metadata": {},
     "output_type": "execute_result"
    },
    {
     "data": {
      "text/plain": [
       "ing Piccadilly Circus Underground Station in direction outbound\t\n",
       "Ignoring Caledonian Road Underground Station in direction inbound\t\n",
       "Ignoring Caledonian Road Underground Station in direction outbound\t\n",
       "Ignoring Cockfosters Underground Station in direction inbound\t\n",
       "Failed to get intervals for Cockfosters Underground Station in direction outbound\t\n",
       "Ignoring Northfields Underground Station in direction inbound\t\n",
       "Ignoring Northfields Underground Station in direction outbound\t\n",
       "Ignoring Alperton Underground Station in direction inbound\t\n",
       "Ignoring Alperton Underground Station in direction outbound\t\n",
       "Ignoring Manor House Underground Station in direction inbound\t\n",
       "Ignoring Manor House Underground Station in direction outbound\t\n",
       "Ignoring Knightsbridge Underground Station in direction inbound\t\n",
       "Ignoring Knightsbridge Underground Station in direction outbound\t\n",
       "Ignoring Boston Manor Underground Station in direction inbound\t\n",
       "Ignoring Boston Manor Underground Station in direction outbound\t\n",
       "Ignoring Eastcote Underground Station in direction inbound\t\n",
       "Ignoring Eastcote Underground Station in direction outbound\t\n",
       "Ignoring Acton Town Underground Station in direction inbound\t\n",
       "Ignoring Acton Town Underground Station in direction outbound\t\n",
       "Ignoring Hatton Cross Underground Station in direction inbound\t\n",
       "Ignoring Hatton Cross Underground Station in direction outbound\t\n",
       "Ignoring Finsbury Park Underground Station in direction inbound\t\n",
       "Ignoring Finsbury Park Underground Station in direction outbound\t\n",
       "Ignoring Holborn Underground Station in direction inbound\t\n",
       "Ignoring Holborn Underground Station in direction outbound\t\n",
       "Ignoring Hyde Park Corner Underground Station in direction inbound\t\n",
       "Ignoring Hyde Park Corner Underground Station in direction outbound\t\n",
       "Failed to get intervals for Heathrow Terminals 1-2-3 Underground Station  in direction inbound\t\n",
       "Ignoring Heathrow Terminals 1-2-3 Underground Station  in direction outbound\t\n",
       "Ignoring Hammersmith (Dist&Picc Line) Underground Station in direction inbound\t\n",
       "Ignoring Hammersmith (Dist&Picc Line) Underground Station in direction outbound\t\n",
       "Ignoring Hounslow West Underground Station in direction inbound\t\n",
       "Ignoring Hounslow West Underground Station in direction outbound\t\n",
       "Ignoring Bounds Green Underground Station in direction inbound\t\n",
       "Ignoring Bounds Green Underground Station in direction outbound\t\n",
       "Getting information for line victoria\t\n",
       "Failed to get intervals for Brixton Underground Station in direction inbound\t\n",
       "Ignoring Brixton Underground Station in direction outbound\t\n",
       "Ignoring King's Cross St. Pancras Underground Station in direction inbound\t\n",
       "Ignoring King's Cross St. Pancras Underground Station in direction outbound\t\n",
       "Ignoring Warren Street Underground Station in direction inbound\t\n",
       "Ignoring Warren Street Underground Station in direction outbound\t\n",
       "Ignoring Vauxhall Underground Station in direction inbound\t\n",
       "Ignoring Vauxhall Underground Station in direction outbound\t\n",
       "Ignoring Pimlico Underground Station in direction inbound\t\n",
       "Ignoring Pimlico Underground Station in direction outbound\t\n",
       "Ignoring Victoria Underground Station in direction inbound\t\n",
       "Ignoring Victoria Underground Station in direction outbound\t\n",
       "Ignoring Green Park Underground Station in direction inbound\t\n",
       "Ignoring Green Park Underground Station in direction outbound\t\n",
       "Ignoring Tottenham Hale Underground Station in direction inbound\t\n",
       "Ignoring Tottenham Hale Underground Station in direction outbound\t\n",
       "Ignoring Seven Sisters Underground Station in direction inbound\t\n",
       "Ignoring Seven Sisters Underground Station in direction outbound\t\n",
       "Ignoring Finsbury Park Underground Station in direction inbound\t\n",
       "Ignoring Finsbury Park Underground Station in direction outbound\t\n",
       "Ignoring Blackhorse Road Underground Station in direction inbound\t\n",
       "Ignoring Blackhorse Road Underground Station in direction outbound\t\n",
       "Ignoring Highbury & Islington Underground Station in direction inbound\t\n",
       "Ignoring Highbury & Islington Underground Station in direction outbound\t\n",
       "Ignoring Euston Underground Station in direction inbound\t\n",
       "Ignoring Euston Underground Station in direction outbound\t\n",
       "Ignoring Oxford Cir"
      ]
     },
     "execution_count": 5,
     "metadata": {},
     "output_type": "execute_result"
    },
    {
     "data": {
      "text/plain": [
       "cus Underground Station in direction inbound\t\n",
       "Ignoring Oxford Circus Underground Station in direction outbound\t\n",
       "Ignoring Stockwell Underground Station in direction inbound\t\n",
       "Ignoring Stockwell Underground Station in direction outbound\t\n",
       "Ignoring Walthamstow Central Underground Station in direction inbound\t\n",
       "Failed to get intervals for Walthamstow Central Underground Station in direction outbound\t\n",
       "Getting information for line waterloo-city\t\n",
       "Ignoring Bank Underground Station in direction inbound\t\n",
       "Failed to get intervals for Bank Underground Station in direction outbound\t\n",
       "Failed to get intervals for Waterloo Underground Station in direction inbound\t\n",
       "Ignoring Waterloo Underground Station in direction outbound\t\n"
      ]
     },
     "execution_count": 5,
     "metadata": {},
     "output_type": "execute_result"
    }
   ],
   "source": [
    "local std = require('std')\n",
    "\n",
    "local https = require('ssl.https')\n",
    "local cjson = require('cjson')\n",
    "\n",
    "local API_ID = '64dd8f8c'\n",
    "local API_KEY = '8f945b259bf29848031c8dbdb7abf4b3'\n",
    "\n",
    "function request_api(stem)\n",
    "    local url = string.format('https://api.tfl.gov.uk/%s&app_id=%s&app_key=%s', stem, API_ID, API_KEY)\n",
    "    local body, code, _, _ = https.request(url)\n",
    "    \n",
    "    assert(code == 200, string.format('Invalid response to url %s. Code: %d', url, code))\n",
    "        \n",
    "    return cjson.decode(body)\n",
    "end\n",
    "\n",
    "function get_line_data()\n",
    "    return request_api('Line?')\n",
    "end\n",
    "        \n",
    "function get_lines_of_interest(line_data)\n",
    "    local results = {}\n",
    "    for k, v in pairs(line_data) do\n",
    "        if v.modeName == 'tube' or v.modeName == 'overground' then table.insert(results, v.id) end\n",
    "    end\n",
    "    \n",
    "    return results\n",
    "end\n",
    "\n",
    "function format_stem(...)\n",
    "    local query = (...).query\n",
    "    \n",
    "    local stem = query .. '?'\n",
    "    for k, v in pairs(...) do\n",
    "        if k ~= 'query' then\n",
    "            stem = string.format('%s&%s=%s', stem, k, v)\n",
    "        end\n",
    "    end\n",
    "    \n",
    "    return stem\n",
    "end\n",
    "\n",
    "function get_stations_for_line(name)\n",
    "    local stem = format_stem{\n",
    "        query='Line/ids/StopPoints',\n",
    "        ids=name\n",
    "    }\n",
    "\n",
    "    return request_api(stem)\n",
    "end\n",
    "\n",
    "function get_station_names(station_data)\n",
    "    local ids = {}\n",
    "    for _, v in pairs(station_data) do\n",
    "        ids[v.id] = v.commonName\n",
    "    end\n",
    "    return ids\n",
    "end\n",
    "\n",
    "function get_timetables(line_name, station_name, direction)\n",
    "    stem = format_stem{\n",
    "        query='Line/id/Timetable/fromStopPointId', \n",
    "        fromStopPointId=station_name, \n",
    "        id=line_name,\n",
    "        direction=direction}\n",
    "    \n",
    "    return request_api(stem)\n",
    "end\n",
    "\n",
    "function get_intervals(timetable, stations)\n",
    "    local routes = timetable.timetable.routes\n",
    "    local results = {}\n",
    "    for route_num, route in pairs(routes) do\n",
    "        results[route_num] = {}\n",
    "        for interval_num, intervals in pairs(route.stationIntervals) do\n",
    "            results[route_num][interval_num] = {}\n",
    "            for _, interval in pairs(intervals.intervals) do\n",
    "                station_name = stations[interval.stopId]\n",
    "                results[route_num][interval_num][station_name] = interval.timeToArrival\n",
    "            end\n",
    "        end\n",
    "    end\n",
    "    return results\n",
    "end\n",
    "    \n",
    "\n",
    "function get_intervals_for_line(line_name, ignores)\n",
    "    local ignores = ignores or {}\n",
    "    local stations = get_station_names(get_stations_for_line(line_name))\n",
    "    \n",
    "    local results = {}\n",
    "    for id, station_name in pairs(stations) do\n",
    "        results[station_name] = {}\n",
    "        for _, direction in pairs({'inbound', 'outbound'}) do\n",
    "            ignore_this = (ignores[station_name] and ignores[station_name][direction])\n",
    "            \n",
    "            if not ignore_this then\n",
    "                local success, timetables = pcall(get_timetables, line_name, id, direction)\n",
    "            else\n",
    "                print(string.format('Ignoring %s in direction %s', station_name, direction))\n",
    "                local success = false\n",
    "            end\n",
    "                \n",
    "            if success and not ignore_this then\n",
    "                results[station_name][direction] = get_intervals(timetables, stations)\n",
    "                print(string.format('Got results for %s in direction %s', station_name, direction))\n",
    "            elseif not ignore_this then\n",
    "                print(string.format('Failed to get intervals for %s in direction %s', station_name, direction))\n",
    "            end\n",
    "        end\n",
    "    end\n",
    "    \n",
    "    return results\n",
    "end\n",
    "\n",
    "function save_intervals_for_all_lines()\n",
    "    local lines_ = get_lines_of_interest(get_line_data())\n",
    "        \n",
    "    for line in std.ielems(lines_) do\n",
    "        print(string.format('Getting information for line %s', line))\n",
    "        local intervals = get_intervals_for_line(line)\n",
    "        \n",
    "        filename = string.format('lines/%s.t7', line)\n",
    "        torch.save(filename, intervals)\n",
    "    end\n",
    "end\n",
    "\n",
    "function update_intervals()\n",
    "    local lines_ = get_lines_of_interest(get_line_data())\n",
    "\n",
    "    for line in std.ielems(lines_) do\n",
    "        print(string.format('Getting information for line %s', line))\n",
    "        local filename = string.format('lines/%s.t7', line)\n",
    "        local data = torch.load(filename)\n",
    "        local new_data = get_intervals_for_line(line, data)\n",
    "        for station_name, directions in pairs(new_data) do\n",
    "            for direction_name, intervals in pairs(directions) do\n",
    "                data[station_name][direction] = intervals\n",
    "            end\n",
    "        end\n",
    "    \n",
    "        torch.save(filename, data)\n",
    "    end\n",
    "end\n",
    "    \n",
    "update_intervals()\n",
    "        "
   ]
  },
  {
   "cell_type": "code",
   "execution_count": null,
   "metadata": {
    "collapsed": false
   },
   "outputs": [],
   "source": [
    "require('lfs')\n",
    "local std = require('std')\n",
    "\n",
    "function load_intervals()\n",
    "    local results = {}\n",
    "    for filename in lfs.dir('lines') do\n",
    "        if string.split(filename, '%.')[2] == 't7' then\n",
    "            table.insert(results, torch.load('lines/' .. filename))\n",
    "        end\n",
    "    end\n",
    "    \n",
    "    return results\n",
    "end\n",
    "\n",
    "function flatten_to_lists(t)\n",
    "    local is_leaf = type(t) == 'table' and type(std.table.values(t)[1]) ~= 'table'\n",
    "    \n",
    "    if is_leaf then\n",
    "        local results = {}\n",
    "        for key, value in pairs(t) do\n",
    "            results[key] = {value}\n",
    "        end\n",
    "        return results\n",
    "    else\n",
    "        local results = {}\n",
    "        for _, child in pairs(t) do\n",
    "            for key, value in pairs(flatten_to_lists(child)) do\n",
    "                if results[key] == nil then\n",
    "                    results[key] = std.list.List()\n",
    "                end\n",
    "                \n",
    "                results[key] = results[key] .. value\n",
    "            end\n",
    "        end\n",
    "    \n",
    "        return results\n",
    "    end    \n",
    "end\n",
    "    \n",
    "\n",
    "function gather_intervals_for_station(station_intervals)\n",
    "    local intervals = {}\n",
    "    for direction in std.elems(station_intervals) do\n",
    "        for route in std.elems(direction) do\n",
    "            for schedule in std.elems(route) do\n",
    "                for destination, time in pairs(schedule) do\n",
    "                    if intervals[destination] == nil then \n",
    "                        intervals[destination] = {time}\n",
    "                    else\n",
    "                        table.insert(intervals[destination], time)\n",
    "                    end\n",
    "                end\n",
    "            end\n",
    "        end\n",
    "    end\n",
    "    \n",
    "    local results = {}\n",
    "    for destination, destination_intervals in pairs(intervals) do\n",
    "        results[destination] = torch.median(torch.Tensor(destination_intervals))[1]\n",
    "    end\n",
    "    \n",
    "    return results\n",
    "end\n",
    "    \n",
    "function gather_intervals_for_line(line_intervals)\n",
    "    local results = {}\n",
    "end\n",
    "\n",
    "intervals = load_intervals()\n",
    "--print(flatten_to_lists(intervals[1]['Maida Vale Underground Station']))\n",
    "--print(flatten_to_lists({{{'a'}}, {{'b'}}}))\n",
    "print(std.list.List{})"
   ]
  },
  {
   "cell_type": "code",
   "execution_count": null,
   "metadata": {
    "collapsed": true
   },
   "outputs": [],
   "source": []
  },
  {
   "cell_type": "code",
   "execution_count": 11,
   "metadata": {
    "collapsed": false
   },
   "outputs": [
    {
     "data": {
      "text/plain": [
       "hello\t\n"
      ]
     },
     "execution_count": 11,
     "metadata": {},
     "output_type": "execute_result"
    }
   ],
   "source": [
    "std = require('std')\n",
    "\n",
    "data = torch.load('lines/bakerloo.t7')\n",
    "if not data['Elephant & Castle Underground Station']['inbound'] then\n",
    "    print('hello')\n",
    "end"
   ]
  }
 ],
 "metadata": {
  "kernelspec": {
   "display_name": "iTorch",
   "language": "lua",
   "name": "itorch"
  },
  "language_info": {
   "name": "lua",
   "version": "20100"
  }
 },
 "nbformat": 4,
 "nbformat_minor": 0
}
