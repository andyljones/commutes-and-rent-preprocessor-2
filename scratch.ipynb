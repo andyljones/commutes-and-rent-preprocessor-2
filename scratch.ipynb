{
 "cells": [
  {
   "cell_type": "code",
   "execution_count": 17,
   "metadata": {
    "collapsed": false,
    "scrolled": true
   },
   "outputs": [],
   "source": [
    "local std = require('std')\n",
    "\n",
    "local https = require('ssl.https')\n",
    "local cjson = require('cjson')\n",
    "\n",
    "local API_ID = '64dd8f8c'\n",
    "local API_KEY = '8f945b259bf29848031c8dbdb7abf4b3'\n",
    "\n",
    "function request_api(stem)\n",
    "    local url = string.format('https://api.tfl.gov.uk/%s&app_id=%s&app_key=%s', stem, API_ID, API_KEY)\n",
    "    local body, code, _, _ = https.request(url)\n",
    "    \n",
    "    assert(code == 200, string.format('Invalid response to url %s. Code: %d', url, code))\n",
    "        \n",
    "    return cjson.decode(body)\n",
    "end\n",
    "\n",
    "function get_line_data()\n",
    "    return request_api('Line?')\n",
    "end\n",
    "        \n",
    "function get_lines_of_interest(line_data)\n",
    "    local results = {}\n",
    "    for k, v in pairs(line_data) do\n",
    "        if v.modeName == 'tube' or v.modeName == 'overground' then table.insert(results, v.id) end\n",
    "    end\n",
    "    \n",
    "    return results\n",
    "end\n",
    "\n",
    "function format_stem(...)\n",
    "    local query = (...).query\n",
    "    \n",
    "    local stem = query .. '?'\n",
    "    for k, v in pairs(...) do\n",
    "        if k ~= 'query' then\n",
    "            stem = string.format('%s&%s=%s', stem, k, v)\n",
    "        end\n",
    "    end\n",
    "    \n",
    "    return stem\n",
    "end\n",
    "\n",
    "function get_stations_for_line(name)\n",
    "    local stem = format_stem{\n",
    "        query='Line/ids/StopPoints',\n",
    "        ids=name\n",
    "    }\n",
    "\n",
    "    return request_api(stem)\n",
    "end\n",
    "\n",
    "function get_station_names(station_data)\n",
    "    local ids = {}\n",
    "    for _, v in pairs(station_data) do\n",
    "        ids[v.id] = v.commonName\n",
    "    end\n",
    "    return ids\n",
    "end\n",
    "\n",
    "function get_timetables(line_name, station_name, direction)\n",
    "    stem = format_stem{\n",
    "        query='Line/id/Timetable/fromStopPointId', \n",
    "        fromStopPointId=station_name, \n",
    "        id=line_name,\n",
    "        direction=direction}\n",
    "    \n",
    "    return request_api(stem)\n",
    "end\n",
    "\n",
    "function get_intervals(timetable, stations)\n",
    "    local routes = timetable.timetable.routes\n",
    "    local results = {}\n",
    "    for route_num, route in pairs(routes) do\n",
    "        results[route_num] = {}\n",
    "        for interval_num, intervals in pairs(route.stationIntervals) do\n",
    "            results[route_num][interval_num] = {}\n",
    "            for _, interval in pairs(intervals.intervals) do\n",
    "                station_name = stations[interval.stopId]\n",
    "                results[route_num][interval_num][station_name] = interval.timeToArrival\n",
    "            end\n",
    "        end\n",
    "    end\n",
    "    return results\n",
    "end\n",
    "    \n",
    "\n",
    "function get_intervals_for_line(line_name)\n",
    "    local stations = get_station_names(get_stations_for_line(line_name))\n",
    "    \n",
    "    local results = {}\n",
    "    for id, station_name in pairs(stations) do\n",
    "        results[station_name] = {}\n",
    "        for _, direction in pairs({'inbound', 'outbound'}) do\n",
    "            local success, timetables = pcall(get_timetables, line_name, id, direction)\n",
    "\n",
    "            if success then\n",
    "                results[station_name][direction] = get_intervals(timetables, stations)\n",
    "                print(string.format('Got results for %s in direction %s', station_name, direction))\n",
    "            else\n",
    "                print(string.format('Failed to get intervals for %s in direction %s', station_name, direction))\n",
    "            end\n",
    "        end\n",
    "    end\n",
    "    \n",
    "    return results\n",
    "end\n",
    "\n",
    "function save_intervals_for_all_lines()\n",
    "    local lines_ = get_lines_of_interest(get_line_data())\n",
    "        \n",
    "    for line in std.ielems(lines_) do\n",
    "        print(string.format('Getting information for line %s', line))\n",
    "        intervals = get_intervals_for_line(line)\n",
    "        \n",
    "        filename = string.format('lines/%s.t7', line)\n",
    "        torch.save(filename, intervals)\n",
    "    end\n",
    "end\n"
   ]
  },
  {
   "cell_type": "code",
   "execution_count": null,
   "metadata": {
    "collapsed": false
   },
   "outputs": [
    {
     "data": {
      "text/plain": [
       "Getting information for line bakerloo\t\n",
       "Got results for Harrow & Wealdstone Underground Station in direction inbound\t\n",
       "Failed to get intervals for Harrow & Wealdstone Underground Station in direction outbound\t\n",
       "Got results for Kenton Underground Station in direction inbound\t\n",
       "Got results for Kenton Underground Station in direction outbound\t\n",
       "Got results for Maida Vale Underground Station in direction inbound\t\n",
       "Got results for Maida Vale Underground Station in direction outbound\t\n",
       "Got results for Regent's Park Underground Station in direction inbound\t\n",
       "Got results for Regent's Park Underground Station in direction outbound\t\n",
       "Got results for Paddington Underground Station in direction inbound\t\n",
       "Got results for Paddington Underground Station in direction outbound\t\n",
       "Got results for Harlesden Underground Station in direction inbound\t\n",
       "Got results for Harlesden Underground Station in direction outbound\t\n",
       "Got results for Lambeth North Underground Station in direction inbound\t\n",
       "Got results for Lambeth North Underground Station in direction outbound\t\n",
       "Got results for North Wembley Underground Station in direction inbound\t\n",
       "Got results for North Wembley Underground Station in direction outbound\t\n",
       "Got results for Kensal Green Underground Station in direction inbound\t\n",
       "Got results for Kensal Green Underground Station in direction outbound\t\n",
       "Got results for Oxford Circus Underground Station in direction inbound\t\n",
       "Got results for Oxford Circus Underground Station in direction outbound\t\n"
      ]
     },
     "execution_count": 18,
     "metadata": {},
     "output_type": "execute_result"
    },
    {
     "data": {
      "text/plain": [
       "Got results for Edgware Road (Bakerloo) Underground Station in direction inbound\t\n",
       "Got results for Edgware Road (Bakerloo) Underground Station in direction outbound\t\n",
       "Got results for Piccadilly Circus Underground Station in direction inbound\t\n",
       "Got results for Piccadilly Circus Underground Station in direction outbound\t\n",
       "Got results for Embankment Underground Station in direction inbound\t\n",
       "Got results for Embankment Underground Station in direction outbound\t\n",
       "Failed to get intervals for Elephant & Castle Underground Station in direction inbound\t\n",
       "Got results for Elephant & Castle Underground Station in direction outbound\t\n",
       "Got results for South Kenton Underground Station in direction inbound\t\n",
       "Got results for South Kenton Underground Station in direction outbound\t\n",
       "Got results for Charing Cross Underground Station in direction inbound\t\n",
       "Got results for Charing Cross Underground Station in direction outbound\t\n",
       "Got results for Wembley Central Underground Station in direction inbound\t\n",
       "Got results for Wembley Central Underground Station in direction outbound\t\n",
       "Got results for Marylebone Underground Station in direction inbound\t\n",
       "Got results for Marylebone Underground Station in direction outbound\t\n",
       "Got results for Warwick Avenue Underground Station in direction inbound\t\n",
       "Got results for Warwick Avenue Underground Station in direction outbound\t\n",
       "Got results for Baker Street Underground Station in direction inbound\t\n",
       "Got results for Baker Street Underground Station in direction outbound\t\n",
       "Got results for Waterloo Underground Station in direction inbound\t\n"
      ]
     },
     "execution_count": 18,
     "metadata": {},
     "output_type": "execute_result"
    },
    {
     "data": {
      "text/plain": [
       "Got results for Waterloo Underground Station in direction outbound\t\n",
       "Got results for Willesden Junction Underground Station in direction inbound\t\n",
       "Got results for Willesden Junction Underground Station in direction outbound\t\n",
       "Got results for Stonebridge Park Underground Station in direction inbound\t\n",
       "Got results for Stonebridge Park Underground Station in direction outbound\t\n",
       "Got results for Queen's Park Underground Station in direction inbound\t\n",
       "Got results for Queen's Park Underground Station in direction outbound\t\n",
       "Got results for Kilburn Park Underground Station in direction inbound\t\n",
       "Got results for Kilburn Park Underground Station in direction outbound\t\n",
       "Getting information for line central\t\n",
       "Got results for Shepherd's Bush (Central) Underground Station in direction inbound\t\n",
       "Got results for Shepherd's Bush (Central) Underground Station in direction outbound\t\n",
       "Failed to get intervals for West Ruislip Underground Station in direction inbound\t\n"
      ]
     },
     "execution_count": 18,
     "metadata": {},
     "output_type": "execute_result"
    },
    {
     "data": {
      "text/plain": [
       "Got results for West Ruislip Underground Station in direction outbound\t\n",
       "Got results for East Acton Underground Station in direction inbound\t\n"
      ]
     },
     "execution_count": 18,
     "metadata": {},
     "output_type": "execute_result"
    },
    {
     "data": {
      "text/plain": [
       "Got results for East Acton Underground Station in direction outbound\t\n",
       "Got results for Holborn Underground Station in direction inbound\t\n",
       "Got results for Holborn Underground Station in direction outbound\t\n",
       "Got results for Theydon Bois Underground Station in direction inbound\t\n",
       "Got results for Theydon Bois Underground Station in direction outbound\t\n"
      ]
     },
     "execution_count": 18,
     "metadata": {},
     "output_type": "execute_result"
    }
   ],
   "source": [
    "save_intervals_for_all_lines()"
   ]
  }
 ],
 "metadata": {
  "kernelspec": {
   "display_name": "iTorch",
   "language": "lua",
   "name": "itorch"
  },
  "language_info": {
   "name": "lua",
   "version": "20100"
  }
 },
 "nbformat": 4,
 "nbformat_minor": 0
}
